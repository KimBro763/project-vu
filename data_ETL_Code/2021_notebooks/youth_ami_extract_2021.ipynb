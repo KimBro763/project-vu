{
 "cells": [
  {
   "cell_type": "code",
   "execution_count": 1,
   "metadata": {},
   "outputs": [],
   "source": [
    "import pandas as pd\n",
    "# To install, pip install tabula-py in your env\n",
    "import tabula"
   ]
  },
  {
   "cell_type": "code",
   "execution_count": 2,
   "metadata": {},
   "outputs": [],
   "source": [
    "tabula.convert_into(r\"..\\resources\\2021_data.pdf\", r\"..\\uncleaned_csv\\youth_ami_2021_unclean.csv\", output_format=\"csv\", pages='21')"
   ]
  },
  {
   "cell_type": "code",
   "execution_count": 3,
   "metadata": {},
   "outputs": [],
   "source": [
    "# Read in csv\n",
    "youth_mde_df = pd.read_csv(r\"..\\uncleaned_csv\\youth_ami_2021_unclean.csv\")\n",
    "youth_mde_df = youth_mde_df.dropna(how='all')"
   ]
  },
  {
   "cell_type": "code",
   "execution_count": 4,
   "metadata": {},
   "outputs": [],
   "source": [
    "# Extract second half of ami_df to make second df to be joined back in\n",
    "youth_mde_df_2 = youth_mde_df[[\"Rank.1\", \"State.1\", \"%.1\", \"#.1\"]]\n",
    "youth_mde_df_2 = youth_mde_df_2.rename(columns={'Rank.1' : \"Rank\", \"State.1\" : \"State\", \"%.1\" : \"%\", \"#.1\": \"#\"})\n"
   ]
  },
  {
   "cell_type": "code",
   "execution_count": 5,
   "metadata": {},
   "outputs": [],
   "source": [
    "# Drop columns that have been extracted\n",
    "youth_mde_df = youth_mde_df.drop(columns={\"Rank.1\", \"State.1\", \"%.1\", \"#.1\"})"
   ]
  },
  {
   "cell_type": "code",
   "execution_count": 6,
   "metadata": {},
   "outputs": [],
   "source": [
    "youth_mde_df = youth_mde_df.append(youth_mde_df_2)"
   ]
  },
  {
   "cell_type": "code",
   "execution_count": 7,
   "metadata": {},
   "outputs": [],
   "source": [
    "youth_mde_df = youth_mde_df.dropna(how='all')"
   ]
  },
  {
   "cell_type": "code",
   "execution_count": 8,
   "metadata": {},
   "outputs": [],
   "source": [
    "# change dtype of # column\n",
    "youth_mde_df['#'] = youth_mde_df['#'].str.replace(',', '').astype(float)"
   ]
  },
  {
   "cell_type": "code",
   "execution_count": 9,
   "metadata": {},
   "outputs": [],
   "source": [
    "youth_mde_df = youth_mde_df.add_suffix('_youth_ami_2021')"
   ]
  },
  {
   "cell_type": "code",
   "execution_count": 10,
   "metadata": {},
   "outputs": [],
   "source": [
    "youth_mde_df = youth_mde_df.rename(columns={'State_youth_ami_2021' : 'State'})"
   ]
  },
  {
   "cell_type": "code",
   "execution_count": 11,
   "metadata": {},
   "outputs": [],
   "source": [
    "youth_mde_df.to_csv(r'..\\resources\\youth_ami_clean2021.csv', sep=',', index=False)"
   ]
  }
 ],
 "metadata": {
  "interpreter": {
   "hash": "7829a8a9740bf35ce0d99eaef6f9b78ba8db1856c4a7cf99972e3bb293bfaf99"
  },
  "kernelspec": {
   "display_name": "Python 3.9.5 64-bit ('PyData': conda)",
   "name": "python3"
  },
  "language_info": {
   "codemirror_mode": {
    "name": "ipython",
    "version": 3
   },
   "file_extension": ".py",
   "mimetype": "text/x-python",
   "name": "python",
   "nbconvert_exporter": "python",
   "pygments_lexer": "ipython3",
   "version": "3.9.5"
  },
  "orig_nbformat": 4
 },
 "nbformat": 4,
 "nbformat_minor": 2
}
