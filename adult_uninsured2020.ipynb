{
 "cells": [
  {
   "cell_type": "code",
   "execution_count": 1,
   "metadata": {},
   "outputs": [],
   "source": [
    "import pandas as pd\n",
    "# To install, pip install tabula-py in your env\n",
    "import tabula"
   ]
  },
  {
   "cell_type": "code",
   "execution_count": 2,
   "metadata": {},
   "outputs": [],
   "source": [
    "tabula.convert_into(r\"resources\\2020_data.pdf\", r\"uncleaned_csv\\adult_uninsured2020.csv\", output_format=\"csv\", pages='36', stream = True)"
   ]
  },
  {
   "cell_type": "code",
   "execution_count": 3,
   "metadata": {},
   "outputs": [
    {
     "data": {
      "text/html": [
       "<div>\n",
       "<style scoped>\n",
       "    .dataframe tbody tr th:only-of-type {\n",
       "        vertical-align: middle;\n",
       "    }\n",
       "\n",
       "    .dataframe tbody tr th {\n",
       "        vertical-align: top;\n",
       "    }\n",
       "\n",
       "    .dataframe thead th {\n",
       "        text-align: right;\n",
       "    }\n",
       "</style>\n",
       "<table border=\"1\" class=\"dataframe\">\n",
       "  <thead>\n",
       "    <tr style=\"text-align: right;\">\n",
       "      <th></th>\n",
       "      <th>Adults with AMI who are Uninsured Rank</th>\n",
       "      <th>State</th>\n",
       "      <th>Rate</th>\n",
       "      <th>#</th>\n",
       "    </tr>\n",
       "  </thead>\n",
       "  <tbody>\n",
       "    <tr>\n",
       "      <th>0</th>\n",
       "      <td>1</td>\n",
       "      <td>Massachusetts</td>\n",
       "      <td>2.7</td>\n",
       "      <td>32,000</td>\n",
       "    </tr>\n",
       "    <tr>\n",
       "      <th>1</th>\n",
       "      <td>2</td>\n",
       "      <td>Iowa</td>\n",
       "      <td>3.3</td>\n",
       "      <td>15,000</td>\n",
       "    </tr>\n",
       "    <tr>\n",
       "      <th>2</th>\n",
       "      <td>3</td>\n",
       "      <td>District of Columbia</td>\n",
       "      <td>3.8</td>\n",
       "      <td>5,000</td>\n",
       "    </tr>\n",
       "    <tr>\n",
       "      <th>3</th>\n",
       "      <td>4</td>\n",
       "      <td>New York</td>\n",
       "      <td>4.0</td>\n",
       "      <td>107,000</td>\n",
       "    </tr>\n",
       "    <tr>\n",
       "      <th>4</th>\n",
       "      <td>5</td>\n",
       "      <td>Connecticut</td>\n",
       "      <td>5.1</td>\n",
       "      <td>26,000</td>\n",
       "    </tr>\n",
       "    <tr>\n",
       "      <th>...</th>\n",
       "      <td>...</td>\n",
       "      <td>...</td>\n",
       "      <td>...</td>\n",
       "      <td>...</td>\n",
       "    </tr>\n",
       "    <tr>\n",
       "      <th>63</th>\n",
       "      <td>The rankings for this indicator used data from...</td>\n",
       "      <td>Georgia</td>\n",
       "      <td>20.3</td>\n",
       "      <td>278,000</td>\n",
       "    </tr>\n",
       "    <tr>\n",
       "      <th>64</th>\n",
       "      <td>50</td>\n",
       "      <td>Texas</td>\n",
       "      <td>21.4</td>\n",
       "      <td>694,000</td>\n",
       "    </tr>\n",
       "    <tr>\n",
       "      <th>65</th>\n",
       "      <td>NSDUH. Some states, such as  Arkansas, that ha...</td>\n",
       "      <td>Wyoming</td>\n",
       "      <td>22.9</td>\n",
       "      <td>20,000</td>\n",
       "    </tr>\n",
       "    <tr>\n",
       "      <th>66</th>\n",
       "      <td>uninsured adults with AMI passed Medicaid work...</td>\n",
       "      <td>NaN</td>\n",
       "      <td>NaN</td>\n",
       "      <td>NaN</td>\n",
       "    </tr>\n",
       "    <tr>\n",
       "      <th>67</th>\n",
       "      <td>NaN</td>\n",
       "      <td>National</td>\n",
       "      <td>10.3</td>\n",
       "      <td>4,720,000</td>\n",
       "    </tr>\n",
       "  </tbody>\n",
       "</table>\n",
       "<p>68 rows × 4 columns</p>\n",
       "</div>"
      ],
      "text/plain": [
       "               Adults with AMI who are Uninsured Rank                 State  \\\n",
       "0                                                   1         Massachusetts   \n",
       "1                                                   2                  Iowa   \n",
       "2                                                   3  District of Columbia   \n",
       "3                                                   4              New York   \n",
       "4                                                   5           Connecticut   \n",
       "..                                                ...                   ...   \n",
       "63  The rankings for this indicator used data from...               Georgia   \n",
       "64                                                 50                 Texas   \n",
       "65  NSDUH. Some states, such as  Arkansas, that ha...               Wyoming   \n",
       "66  uninsured adults with AMI passed Medicaid work...                   NaN   \n",
       "67                                                NaN              National   \n",
       "\n",
       "    Rate          #  \n",
       "0    2.7     32,000  \n",
       "1    3.3     15,000  \n",
       "2    3.8      5,000  \n",
       "3    4.0    107,000  \n",
       "4    5.1     26,000  \n",
       "..   ...        ...  \n",
       "63  20.3    278,000  \n",
       "64  21.4    694,000  \n",
       "65  22.9     20,000  \n",
       "66   NaN        NaN  \n",
       "67  10.3  4,720,000  \n",
       "\n",
       "[68 rows x 4 columns]"
      ]
     },
     "execution_count": 3,
     "metadata": {},
     "output_type": "execute_result"
    }
   ],
   "source": [
    "# Read csv\n",
    "uninsured_adult_df = pd.read_csv(r\"uncleaned_csv\\adult_uninsured2020.csv\")\n",
    "uninsured_adult_df"
   ]
  },
  {
   "cell_type": "code",
   "execution_count": 4,
   "metadata": {},
   "outputs": [],
   "source": [
    "uninsured_adult_df = uninsured_adult_df[pd.to_numeric(uninsured_adult_df['Adults with AMI who are Uninsured Rank'], errors='coerce').notnull()]"
   ]
  },
  {
   "cell_type": "code",
   "execution_count": 5,
   "metadata": {},
   "outputs": [],
   "source": [
    "uninsured_adult_df = uninsured_adult_df.rename(columns={'Adults with AMI who are Uninsured Rank' : 'Rank'})"
   ]
  },
  {
   "cell_type": "code",
   "execution_count": 6,
   "metadata": {},
   "outputs": [],
   "source": [
    "# change dtype of # column\n",
    "uninsured_adult_df['#'] = uninsured_adult_df['#'].str.replace(',', '').astype(float)"
   ]
  },
  {
   "cell_type": "code",
   "execution_count": 7,
   "metadata": {},
   "outputs": [],
   "source": [
    "uninsured_adult_df = uninsured_adult_df.add_suffix('_adult_uninsured_2020')"
   ]
  },
  {
   "cell_type": "code",
   "execution_count": 8,
   "metadata": {},
   "outputs": [],
   "source": [
    "uninsured_adult_df = uninsured_adult_df.rename(columns={'State_adult_uninsured_2020' : 'State'})"
   ]
  },
  {
   "cell_type": "code",
   "execution_count": 9,
   "metadata": {},
   "outputs": [],
   "source": [
    "uninsured_adult_df.to_csv(r'resources\\adult_uninsured2020.csv', sep=',', index=False)"
   ]
  }
 ],
 "metadata": {
  "interpreter": {
   "hash": "7829a8a9740bf35ce0d99eaef6f9b78ba8db1856c4a7cf99972e3bb293bfaf99"
  },
  "kernelspec": {
   "display_name": "Python 3.9.5 64-bit ('PyData': conda)",
   "name": "python3"
  },
  "language_info": {
   "codemirror_mode": {
    "name": "ipython",
    "version": 3
   },
   "file_extension": ".py",
   "mimetype": "text/x-python",
   "name": "python",
   "nbconvert_exporter": "python",
   "pygments_lexer": "ipython3",
   "version": "3.9.5"
  },
  "orig_nbformat": 4
 },
 "nbformat": 4,
 "nbformat_minor": 2
}
