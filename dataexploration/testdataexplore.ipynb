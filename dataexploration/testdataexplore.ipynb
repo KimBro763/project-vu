{
 "cells": [
  {
   "cell_type": "code",
   "execution_count": 45,
   "metadata": {},
   "outputs": [],
   "source": [
    "\n",
    "import pandas as pd \n",
    "import matplotlib.pyplot as plt\n",
    "%matplotlib inline"
   ]
  },
  {
   "cell_type": "code",
   "execution_count": 46,
   "metadata": {},
   "outputs": [],
   "source": [
    "unemploy_file=\"/Users/pazilatn/Desktop/github/project-vu/resources/us_unemployment_trends.csv\"\n",
    "unemploy_data=pd.read_csv(unemploy_file)"
   ]
  },
  {
   "cell_type": "code",
   "execution_count": 47,
   "metadata": {},
   "outputs": [
    {
     "data": {
      "text/html": [
       "<div>\n",
       "<style scoped>\n",
       "    .dataframe tbody tr th:only-of-type {\n",
       "        vertical-align: middle;\n",
       "    }\n",
       "\n",
       "    .dataframe tbody tr th {\n",
       "        vertical-align: top;\n",
       "    }\n",
       "\n",
       "    .dataframe thead th {\n",
       "        text-align: right;\n",
       "    }\n",
       "</style>\n",
       "<table border=\"1\" class=\"dataframe\">\n",
       "  <thead>\n",
       "    <tr style=\"text-align: right;\">\n",
       "      <th></th>\n",
       "      <th>Year</th>\n",
       "      <th>Period</th>\n",
       "      <th>Label</th>\n",
       "      <th>Value</th>\n",
       "      <th>Month</th>\n",
       "      <th>Date</th>\n",
       "      <th>State</th>\n",
       "    </tr>\n",
       "  </thead>\n",
       "  <tbody>\n",
       "    <tr>\n",
       "      <th>621</th>\n",
       "      <td>2021</td>\n",
       "      <td>M04</td>\n",
       "      <td>2021 Apr</td>\n",
       "      <td>7.2</td>\n",
       "      <td>4</td>\n",
       "      <td>2021-04-01</td>\n",
       "      <td>Louisiana</td>\n",
       "    </tr>\n",
       "    <tr>\n",
       "      <th>176</th>\n",
       "      <td>2019</td>\n",
       "      <td>M12</td>\n",
       "      <td>2019 Dec</td>\n",
       "      <td>2.6</td>\n",
       "      <td>12</td>\n",
       "      <td>2019-12-01</td>\n",
       "      <td>Colorado</td>\n",
       "    </tr>\n",
       "    <tr>\n",
       "      <th>1532</th>\n",
       "      <td>2020</td>\n",
       "      <td>M03</td>\n",
       "      <td>2020 Mar</td>\n",
       "      <td>2.6</td>\n",
       "      <td>3</td>\n",
       "      <td>2020-03-01</td>\n",
       "      <td>Virginia</td>\n",
       "    </tr>\n",
       "    <tr>\n",
       "      <th>353</th>\n",
       "      <td>2020</td>\n",
       "      <td>M12</td>\n",
       "      <td>2020 Dec</td>\n",
       "      <td>5.3</td>\n",
       "      <td>12</td>\n",
       "      <td>2020-12-01</td>\n",
       "      <td>Georgia</td>\n",
       "    </tr>\n",
       "    <tr>\n",
       "      <th>1412</th>\n",
       "      <td>2021</td>\n",
       "      <td>M03</td>\n",
       "      <td>2021 Mar</td>\n",
       "      <td>5.1</td>\n",
       "      <td>3</td>\n",
       "      <td>2021-03-01</td>\n",
       "      <td>Tennessee</td>\n",
       "    </tr>\n",
       "    <tr>\n",
       "      <th>945</th>\n",
       "      <td>2020</td>\n",
       "      <td>M10</td>\n",
       "      <td>2020 Oct</td>\n",
       "      <td>12.0</td>\n",
       "      <td>10</td>\n",
       "      <td>2020-10-01</td>\n",
       "      <td>Nevada</td>\n",
       "    </tr>\n",
       "  </tbody>\n",
       "</table>\n",
       "</div>"
      ],
      "text/plain": [
       "      Year Period     Label Value  Month        Date      State\n",
       "621   2021    M04  2021 Apr   7.2      4  2021-04-01  Louisiana\n",
       "176   2019    M12  2019 Dec   2.6     12  2019-12-01   Colorado\n",
       "1532  2020    M03  2020 Mar   2.6      3  2020-03-01   Virginia\n",
       "353   2020    M12  2020 Dec   5.3     12  2020-12-01    Georgia\n",
       "1412  2021    M03  2021 Mar   5.1      3  2021-03-01  Tennessee\n",
       "945   2020    M10  2020 Oct  12.0     10  2020-10-01     Nevada"
      ]
     },
     "execution_count": 47,
     "metadata": {},
     "output_type": "execute_result"
    }
   ],
   "source": [
    "unemploy_data.sample(6)"
   ]
  },
  {
   "cell_type": "code",
   "execution_count": 48,
   "metadata": {},
   "outputs": [
    {
     "data": {
      "image/png": "[encoded data removed]",
      "text/plain": [
       "<Figure size 432x288 with 1 Axes>"
      ]
     },
     "metadata": {
      "needs_background": "light"
     },
     "output_type": "display_data"
    }
   ],
   "source": [
    "x=unemploy_data[\"Date\"]\n",
    "y=unemploy_data[\"Value\"]\n",
    "plt.bar(x,y)\n",
    "plt.show()"
   ]
  },
  {
   "cell_type": "code",
   "execution_count": 49,
   "metadata": {},
   "outputs": [],
   "source": [
    "file_ami=\"/Users/pazilatn/Desktop/github/project-vu/resources/ami_csv2020.csv\"\n",
    "ami_data=pd.read_csv(file_ami)"
   ]
  },
  {
   "cell_type": "code",
   "execution_count": 72,
   "metadata": {},
   "outputs": [
    {
     "data": {
      "text/html": [
       "<div>\n",
       "<style scoped>\n",
       "    .dataframe tbody tr th:only-of-type {\n",
       "        vertical-align: middle;\n",
       "    }\n",
       "\n",
       "    .dataframe tbody tr th {\n",
       "        vertical-align: top;\n",
       "    }\n",
       "\n",
       "    .dataframe thead th {\n",
       "        text-align: right;\n",
       "    }\n",
       "</style>\n",
       "<table border=\"1\" class=\"dataframe\">\n",
       "  <thead>\n",
       "    <tr style=\"text-align: right;\">\n",
       "      <th></th>\n",
       "      <th>Rank</th>\n",
       "      <th>State</th>\n",
       "      <th>%</th>\n",
       "      <th>#</th>\n",
       "    </tr>\n",
       "  </thead>\n",
       "  <tbody>\n",
       "    <tr>\n",
       "      <th>0</th>\n",
       "      <td>1.0</td>\n",
       "      <td>New Jersey</td>\n",
       "      <td>16.19</td>\n",
       "      <td>1,115,000</td>\n",
       "    </tr>\n",
       "    <tr>\n",
       "      <th>1</th>\n",
       "      <td>2.0</td>\n",
       "      <td>Hawaii</td>\n",
       "      <td>16.27</td>\n",
       "      <td>173,000</td>\n",
       "    </tr>\n",
       "    <tr>\n",
       "      <th>2</th>\n",
       "      <td>3.0</td>\n",
       "      <td>Texas</td>\n",
       "      <td>16.32</td>\n",
       "      <td>3,309,000</td>\n",
       "    </tr>\n",
       "    <tr>\n",
       "      <th>3</th>\n",
       "      <td>4.0</td>\n",
       "      <td>Illinois</td>\n",
       "      <td>16.76</td>\n",
       "      <td>1,627,000</td>\n",
       "    </tr>\n",
       "    <tr>\n",
       "      <th>4</th>\n",
       "      <td>5.0</td>\n",
       "      <td>Maryland</td>\n",
       "      <td>16.94</td>\n",
       "      <td>778,000</td>\n",
       "    </tr>\n",
       "  </tbody>\n",
       "</table>\n",
       "</div>"
      ],
      "text/plain": [
       "   Rank       State      %          #\n",
       "0   1.0  New Jersey  16.19  1,115,000\n",
       "1   2.0      Hawaii  16.27    173,000\n",
       "2   3.0       Texas  16.32  3,309,000\n",
       "3   4.0    Illinois  16.76  1,627,000\n",
       "4   5.0    Maryland  16.94    778,000"
      ]
     },
     "execution_count": 72,
     "metadata": {},
     "output_type": "execute_result"
    }
   ],
   "source": [
    "ami_data.head()"
   ]
  },
  {
   "cell_type": "code",
   "execution_count": 51,
   "metadata": {},
   "outputs": [],
   "source": [
    "unemlpoy_20=unemploy_data[unemploy_data[\"Year\"]==2020]"
   ]
  },
  {
   "cell_type": "code",
   "execution_count": 52,
   "metadata": {},
   "outputs": [
    {
     "name": "stderr",
     "output_type": "stream",
     "text": [
      "<ipython-input-52-90d084ce4312>:1: SettingWithCopyWarning: \n",
      "A value is trying to be set on a copy of a slice from a DataFrame.\n",
      "Try using .loc[row_indexer,col_indexer] = value instead\n",
      "\n",
      "See the caveats in the documentation: https://pandas.pydata.org/pandas-docs/stable/user_guide/indexing.html#returning-a-view-versus-a-copy\n",
      "  unemlpoy_20[\"Value\"]=unemlpoy_20[\"Value\"].str.replace(\"-\",\"0\")\n"
     ]
    }
   ],
   "source": [
    "unemlpoy_20[\"Value\"]=unemlpoy_20[\"Value\"].str.replace(\"-\",\"0\")\n"
   ]
  },
  {
   "cell_type": "code",
   "execution_count": 53,
   "metadata": {},
   "outputs": [
    {
     "name": "stderr",
     "output_type": "stream",
     "text": [
      "<ipython-input-53-5b07651be93f>:1: SettingWithCopyWarning: \n",
      "A value is trying to be set on a copy of a slice from a DataFrame.\n",
      "Try using .loc[row_indexer,col_indexer] = value instead\n",
      "\n",
      "See the caveats in the documentation: https://pandas.pydata.org/pandas-docs/stable/user_guide/indexing.html#returning-a-view-versus-a-copy\n",
      "  unemlpoy_20[\"Value\"]=unemlpoy_20[\"Value\"].astype(float).copy()\n"
     ]
    }
   ],
   "source": [
    "unemlpoy_20[\"Value\"]=unemlpoy_20[\"Value\"].astype(float).copy()"
   ]
  },
  {
   "cell_type": "code",
   "execution_count": 54,
   "metadata": {},
   "outputs": [
    {
     "name": "stdout",
     "output_type": "stream",
     "text": [
      "<class 'pandas.core.frame.DataFrame'>\n",
      "Int64Index: 624 entries, 12 to 1706\n",
      "Data columns (total 7 columns):\n",
      " #   Column  Non-Null Count  Dtype  \n",
      "---  ------  --------------  -----  \n",
      " 0   Year    624 non-null    int64  \n",
      " 1   Period  624 non-null    object \n",
      " 2   Label   624 non-null    object \n",
      " 3   Value   624 non-null    float64\n",
      " 4   Month   624 non-null    int64  \n",
      " 5   Date    624 non-null    object \n",
      " 6   State   624 non-null    object \n",
      "dtypes: float64(1), int64(2), object(4)\n",
      "memory usage: 39.0+ KB\n"
     ]
    }
   ],
   "source": [
    "unemlpoy_20.info()"
   ]
  },
  {
   "cell_type": "code",
   "execution_count": 55,
   "metadata": {},
   "outputs": [],
   "source": [
    "from sklearn.preprocessing import StandardScaler\n",
    "import numpy as np"
   ]
  },
  {
   "cell_type": "code",
   "execution_count": 56,
   "metadata": {},
   "outputs": [],
   "source": [
    "x_a=np.log10(ami_data[\"%\"])\n",
    "y_a=np.log10(unemlpoy_20.groupby(\"State\")[\"Value\"].sum())\n",
    "\n"
   ]
  },
  {
   "cell_type": "code",
   "execution_count": 57,
   "metadata": {},
   "outputs": [
    {
     "data": {
      "text/plain": [
       "array([1.20924685, 1.21138755, 1.21272015, 1.22427401, 1.22891341,\n",
       "       1.24402959, 1.24575936, 1.24797327, 1.24870874, 1.25236751,\n",
       "       1.25478969, 1.25575479, 1.25695815, 1.25959388, 1.26030995,\n",
       "       1.26245109, 1.26339933, 1.26810973, 1.26857797, 1.27067884,\n",
       "       1.27369559, 1.2757719 , 1.27898212, 1.27921051, 1.27966694,\n",
       "       1.28126069, 1.28216878, 1.28420507, 1.29203444, 1.29468662,\n",
       "       1.29622629, 1.29754167, 1.29776051, 1.29797924, 1.2999429 ,\n",
       "       1.30146407, 1.30211438, 1.30642503, 1.3079237 , 1.31323429,\n",
       "       1.3165993 , 1.32014629, 1.32572086, 1.34811007, 1.35812529,\n",
       "       1.35964579, 1.37051309, 1.37272794, 1.39846085, 1.2688119 ])"
      ]
     },
     "execution_count": 57,
     "metadata": {},
     "output_type": "execute_result"
    }
   ],
   "source": [
    "x_a.unique()"
   ]
  },
  {
   "cell_type": "code",
   "execution_count": 58,
   "metadata": {},
   "outputs": [
    {
     "data": {
      "text/plain": [
       "count    52.000000\n",
       "mean      1.283510\n",
       "std       0.041472\n",
       "min       1.209247\n",
       "25%       1.256657\n",
       "50%       1.279096\n",
       "75%       1.301627\n",
       "max       1.398461\n",
       "Name: %, dtype: float64"
      ]
     },
     "execution_count": 58,
     "metadata": {},
     "output_type": "execute_result"
    }
   ],
   "source": [
    "x_a.describe()"
   ]
  },
  {
   "cell_type": "code",
   "execution_count": 59,
   "metadata": {},
   "outputs": [
    {
     "data": {
      "text/plain": [
       "count    52.000000\n",
       "mean      1.936876\n",
       "std       0.103989\n",
       "min       1.707570\n",
       "25%       1.865103\n",
       "50%       1.945947\n",
       "75%       2.000976\n",
       "max       2.193681\n",
       "Name: Value, dtype: float64"
      ]
     },
     "execution_count": 59,
     "metadata": {},
     "output_type": "execute_result"
    }
   ],
   "source": [
    "y_a.describe()"
   ]
  },
  {
   "cell_type": "code",
   "execution_count": 60,
   "metadata": {},
   "outputs": [
    {
     "data": {
      "image/png": "[encoded data removed]",
      "text/plain": [
       "<Figure size 432x288 with 1 Axes>"
      ]
     },
     "metadata": {
      "needs_background": "light"
     },
     "output_type": "display_data"
    }
   ],
   "source": [
    "plt.scatter(x_a,y_a)\n",
    "plt.show()"
   ]
  },
  {
   "cell_type": "code",
   "execution_count": 61,
   "metadata": {},
   "outputs": [],
   "source": [
    "file_sucicide=\"/Users/pazilatn/Desktop/github/project-vu/resources/adult_suicide_clean2020.csv\"\n",
    "suicide_df=pd.read_csv(file_sucicide)"
   ]
  },
  {
   "cell_type": "code",
   "execution_count": 62,
   "metadata": {},
   "outputs": [
    {
     "data": {
      "text/html": [
       "<div>\n",
       "<style scoped>\n",
       "    .dataframe tbody tr th:only-of-type {\n",
       "        vertical-align: middle;\n",
       "    }\n",
       "\n",
       "    .dataframe tbody tr th {\n",
       "        vertical-align: top;\n",
       "    }\n",
       "\n",
       "    .dataframe thead th {\n",
       "        text-align: right;\n",
       "    }\n",
       "</style>\n",
       "<table border=\"1\" class=\"dataframe\">\n",
       "  <thead>\n",
       "    <tr style=\"text-align: right;\">\n",
       "      <th></th>\n",
       "      <th>Rank</th>\n",
       "      <th>State</th>\n",
       "      <th>%</th>\n",
       "      <th>#</th>\n",
       "    </tr>\n",
       "  </thead>\n",
       "  <tbody>\n",
       "    <tr>\n",
       "      <th>0</th>\n",
       "      <td>1.0</td>\n",
       "      <td>New Jersey</td>\n",
       "      <td>3.41</td>\n",
       "      <td>235,000</td>\n",
       "    </tr>\n",
       "    <tr>\n",
       "      <th>1</th>\n",
       "      <td>2.0</td>\n",
       "      <td>Florida</td>\n",
       "      <td>3.49</td>\n",
       "      <td>569,000</td>\n",
       "    </tr>\n",
       "    <tr>\n",
       "      <th>2</th>\n",
       "      <td>3.0</td>\n",
       "      <td>New York</td>\n",
       "      <td>3.68</td>\n",
       "      <td>568,000</td>\n",
       "    </tr>\n",
       "    <tr>\n",
       "      <th>3</th>\n",
       "      <td>4.0</td>\n",
       "      <td>Texas</td>\n",
       "      <td>3.72</td>\n",
       "      <td>754,000</td>\n",
       "    </tr>\n",
       "    <tr>\n",
       "      <th>4</th>\n",
       "      <td>5.0</td>\n",
       "      <td>Illinois</td>\n",
       "      <td>3.87</td>\n",
       "      <td>376,000</td>\n",
       "    </tr>\n",
       "  </tbody>\n",
       "</table>\n",
       "</div>"
      ],
      "text/plain": [
       "   Rank       State     %        #\n",
       "0   1.0  New Jersey  3.41  235,000\n",
       "1   2.0     Florida  3.49  569,000\n",
       "2   3.0    New York  3.68  568,000\n",
       "3   4.0       Texas  3.72  754,000\n",
       "4   5.0    Illinois  3.87  376,000"
      ]
     },
     "execution_count": 62,
     "metadata": {},
     "output_type": "execute_result"
    }
   ],
   "source": [
    "suicide_df.head()"
   ]
  },
  {
   "cell_type": "code",
   "execution_count": 63,
   "metadata": {},
   "outputs": [
    {
     "name": "stdout",
     "output_type": "stream",
     "text": [
      "<class 'pandas.core.frame.DataFrame'>\n",
      "RangeIndex: 52 entries, 0 to 51\n",
      "Data columns (total 4 columns):\n",
      " #   Column  Non-Null Count  Dtype  \n",
      "---  ------  --------------  -----  \n",
      " 0   Rank    51 non-null     float64\n",
      " 1   State   52 non-null     object \n",
      " 2   %       52 non-null     float64\n",
      " 3   #       52 non-null     object \n",
      "dtypes: float64(2), object(2)\n",
      "memory usage: 1.8+ KB\n"
     ]
    }
   ],
   "source": [
    "suicide_df.info()"
   ]
  },
  {
   "cell_type": "code",
   "execution_count": 64,
   "metadata": {},
   "outputs": [],
   "source": [
    "s_a=np.log(suicide_df[\"%\"])"
   ]
  },
  {
   "cell_type": "code",
   "execution_count": 65,
   "metadata": {},
   "outputs": [
    {
     "data": {
      "image/png": "[encoded data removed]",
      "text/plain": [
       "<Figure size 432x288 with 1 Axes>"
      ]
     },
     "metadata": {
      "needs_background": "light"
     },
     "output_type": "display_data"
    }
   ],
   "source": [
    "plt.scatter(x_a,s_a)\n",
    "plt.show()"
   ]
  },
  {
   "cell_type": "code",
   "execution_count": 66,
   "metadata": {},
   "outputs": [],
   "source": [
    "file_psy=\"/Users/pazilatn/Desktop/github/project-vu/resources/us_psyjobs_trends.csv\"\n",
    "psy_df=pd.read_csv(file_psy)"
   ]
  },
  {
   "cell_type": "code",
   "execution_count": 67,
   "metadata": {},
   "outputs": [],
   "source": [
    "psy_20=psy_df[psy_df[\"Year\"]==2020]"
   ]
  },
  {
   "cell_type": "code",
   "execution_count": 68,
   "metadata": {},
   "outputs": [
    {
     "data": {
      "text/html": [
       "<div>\n",
       "<style scoped>\n",
       "    .dataframe tbody tr th:only-of-type {\n",
       "        vertical-align: middle;\n",
       "    }\n",
       "\n",
       "    .dataframe tbody tr th {\n",
       "        vertical-align: top;\n",
       "    }\n",
       "\n",
       "    .dataframe thead th {\n",
       "        text-align: right;\n",
       "    }\n",
       "</style>\n",
       "<table border=\"1\" class=\"dataframe\">\n",
       "  <thead>\n",
       "    <tr style=\"text-align: right;\">\n",
       "      <th></th>\n",
       "      <th>STATE</th>\n",
       "      <th>TOT_EMP</th>\n",
       "      <th>JOBS_1000</th>\n",
       "      <th>LOC_Q</th>\n",
       "      <th>Year</th>\n",
       "    </tr>\n",
       "  </thead>\n",
       "  <tbody>\n",
       "    <tr>\n",
       "      <th>95</th>\n",
       "      <td>Alabama</td>\n",
       "      <td>920.0</td>\n",
       "      <td>0.486</td>\n",
       "      <td>0.58</td>\n",
       "      <td>2020</td>\n",
       "    </tr>\n",
       "    <tr>\n",
       "      <th>96</th>\n",
       "      <td>Alaska</td>\n",
       "      <td>240.0</td>\n",
       "      <td>0.801</td>\n",
       "      <td>0.95</td>\n",
       "      <td>2020</td>\n",
       "    </tr>\n",
       "    <tr>\n",
       "      <th>97</th>\n",
       "      <td>Arizona</td>\n",
       "      <td>3140.0</td>\n",
       "      <td>1.107</td>\n",
       "      <td>1.32</td>\n",
       "      <td>2020</td>\n",
       "    </tr>\n",
       "    <tr>\n",
       "      <th>98</th>\n",
       "      <td>Arkansas</td>\n",
       "      <td>950.0</td>\n",
       "      <td>0.805</td>\n",
       "      <td>0.96</td>\n",
       "      <td>2020</td>\n",
       "    </tr>\n",
       "    <tr>\n",
       "      <th>99</th>\n",
       "      <td>California</td>\n",
       "      <td>16920.0</td>\n",
       "      <td>1.03</td>\n",
       "      <td>1.23</td>\n",
       "      <td>2020</td>\n",
       "    </tr>\n",
       "  </tbody>\n",
       "</table>\n",
       "</div>"
      ],
      "text/plain": [
       "         STATE  TOT_EMP JOBS_1000 LOC_Q  Year\n",
       "95     Alabama    920.0     0.486  0.58  2020\n",
       "96      Alaska    240.0     0.801  0.95  2020\n",
       "97     Arizona   3140.0     1.107  1.32  2020\n",
       "98    Arkansas    950.0     0.805  0.96  2020\n",
       "99  California  16920.0      1.03  1.23  2020"
      ]
     },
     "execution_count": 68,
     "metadata": {},
     "output_type": "execute_result"
    }
   ],
   "source": [
    "psy_20.head()"
   ]
  },
  {
   "cell_type": "code",
   "execution_count": null,
   "metadata": {},
   "outputs": [],
   "source": []
  },
  {
   "cell_type": "code",
   "execution_count": 69,
   "metadata": {},
   "outputs": [
    {
     "name": "stderr",
     "output_type": "stream",
     "text": [
      "<ipython-input-69-e821a9831c61>:1: SettingWithCopyWarning: \n",
      "A value is trying to be set on a copy of a slice from a DataFrame.\n",
      "Try using .loc[row_indexer,col_indexer] = value instead\n",
      "\n",
      "See the caveats in the documentation: https://pandas.pydata.org/pandas-docs/stable/user_guide/indexing.html#returning-a-view-versus-a-copy\n",
      "  psy_20[\"TOT_EMP\"]=psy_20[\"TOT_EMP\"].astype(float)\n"
     ]
    }
   ],
   "source": [
    "psy_20[\"TOT_EMP\"]=psy_20[\"TOT_EMP\"].astype(float)"
   ]
  },
  {
   "cell_type": "code",
   "execution_count": 70,
   "metadata": {},
   "outputs": [],
   "source": [
    "e_a=np.log10(psy_20[\"TOT_EMP\"])"
   ]
  },
  {
   "cell_type": "code",
   "execution_count": 71,
   "metadata": {},
   "outputs": [
    {
     "data": {
      "image/png": "[encoded data removed]",
      "text/plain": [
       "<Figure size 432x288 with 1 Axes>"
      ]
     },
     "metadata": {
      "needs_background": "light"
     },
     "output_type": "display_data"
    }
   ],
   "source": [
    "plt.scatter(x_a,e_a)\n",
    "plt.show()"
   ]
  },
  {
   "cell_type": "code",
   "execution_count": null,
   "metadata": {},
   "outputs": [],
   "source": []
  }
 ],
 "metadata": {
  "interpreter": {
   "hash": "bb21933e10362d5b7edcbeb914b36dc85fec45a8bf88e6b1c5733bc63fe3981c"
  },
  "kernelspec": {
   "display_name": "Python 3.8.10 64-bit ('PyData': conda)",
   "name": "python3"
  },
  "language_info": {
   "codemirror_mode": {
    "name": "ipython",
    "version": 3
   },
   "file_extension": ".py",
   "mimetype": "text/x-python",
   "name": "python",
   "nbconvert_exporter": "python",
   "pygments_lexer": "ipython3",
   "version": "3.8.10"
  },
  "orig_nbformat": 4
 },
 "nbformat": 4,
 "nbformat_minor": 2
}
