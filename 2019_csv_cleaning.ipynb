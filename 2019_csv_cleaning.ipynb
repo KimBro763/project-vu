{
 "cells": [
  {
   "cell_type": "code",
   "execution_count": 1,
   "metadata": {},
   "outputs": [],
   "source": [
    "import pandas as pd\n",
    "# To install, pip install tabula-py in your env\n",
    "import tabula"
   ]
  },
  {
   "cell_type": "code",
   "execution_count": 2,
   "metadata": {},
   "outputs": [],
   "source": [
    "uninsured_adult_df = pd.read_csv(r'resources\\adult_uninsured2019.csv')"
   ]
  },
  {
   "cell_type": "code",
   "execution_count": 3,
   "metadata": {},
   "outputs": [
    {
     "ename": "KeyError",
     "evalue": "'#'",
     "output_type": "error",
     "traceback": [
      "\u001b[1;31m---------------------------------------------------------------------------\u001b[0m",
      "\u001b[1;31mKeyError\u001b[0m                                  Traceback (most recent call last)",
      "\u001b[1;32m~\\anaconda3\\envs\\PyData\\lib\\site-packages\\pandas\\core\\indexes\\base.py\u001b[0m in \u001b[0;36mget_loc\u001b[1;34m(self, key, method, tolerance)\u001b[0m\n\u001b[0;32m   3080\u001b[0m             \u001b[1;32mtry\u001b[0m\u001b[1;33m:\u001b[0m\u001b[1;33m\u001b[0m\u001b[1;33m\u001b[0m\u001b[0m\n\u001b[1;32m-> 3081\u001b[1;33m                 \u001b[1;32mreturn\u001b[0m \u001b[0mself\u001b[0m\u001b[1;33m.\u001b[0m\u001b[0m_engine\u001b[0m\u001b[1;33m.\u001b[0m\u001b[0mget_loc\u001b[0m\u001b[1;33m(\u001b[0m\u001b[0mcasted_key\u001b[0m\u001b[1;33m)\u001b[0m\u001b[1;33m\u001b[0m\u001b[1;33m\u001b[0m\u001b[0m\n\u001b[0m\u001b[0;32m   3082\u001b[0m             \u001b[1;32mexcept\u001b[0m \u001b[0mKeyError\u001b[0m \u001b[1;32mas\u001b[0m \u001b[0merr\u001b[0m\u001b[1;33m:\u001b[0m\u001b[1;33m\u001b[0m\u001b[1;33m\u001b[0m\u001b[0m\n",
      "\u001b[1;32mpandas\\_libs\\index.pyx\u001b[0m in \u001b[0;36mpandas._libs.index.IndexEngine.get_loc\u001b[1;34m()\u001b[0m\n",
      "\u001b[1;32mpandas\\_libs\\index.pyx\u001b[0m in \u001b[0;36mpandas._libs.index.IndexEngine.get_loc\u001b[1;34m()\u001b[0m\n",
      "\u001b[1;32mpandas\\_libs\\hashtable_class_helper.pxi\u001b[0m in \u001b[0;36mpandas._libs.hashtable.PyObjectHashTable.get_item\u001b[1;34m()\u001b[0m\n",
      "\u001b[1;32mpandas\\_libs\\hashtable_class_helper.pxi\u001b[0m in \u001b[0;36mpandas._libs.hashtable.PyObjectHashTable.get_item\u001b[1;34m()\u001b[0m\n",
      "\u001b[1;31mKeyError\u001b[0m: '#'",
      "\nThe above exception was the direct cause of the following exception:\n",
      "\u001b[1;31mKeyError\u001b[0m                                  Traceback (most recent call last)",
      "\u001b[1;32m~\\AppData\\Local\\Temp/ipykernel_4380/4288546305.py\u001b[0m in \u001b[0;36m<module>\u001b[1;34m\u001b[0m\n\u001b[0;32m      1\u001b[0m \u001b[1;31m# change dtype of # column\u001b[0m\u001b[1;33m\u001b[0m\u001b[1;33m\u001b[0m\u001b[1;33m\u001b[0m\u001b[0m\n\u001b[1;32m----> 2\u001b[1;33m \u001b[0muninsured_adult_df\u001b[0m\u001b[1;33m[\u001b[0m\u001b[1;34m'#'\u001b[0m\u001b[1;33m]\u001b[0m \u001b[1;33m=\u001b[0m \u001b[0muninsured_adult_df\u001b[0m\u001b[1;33m[\u001b[0m\u001b[1;34m'#'\u001b[0m\u001b[1;33m]\u001b[0m\u001b[1;33m.\u001b[0m\u001b[0mstr\u001b[0m\u001b[1;33m.\u001b[0m\u001b[0mreplace\u001b[0m\u001b[1;33m(\u001b[0m\u001b[1;34m','\u001b[0m\u001b[1;33m,\u001b[0m \u001b[1;34m''\u001b[0m\u001b[1;33m)\u001b[0m\u001b[1;33m.\u001b[0m\u001b[0mastype\u001b[0m\u001b[1;33m(\u001b[0m\u001b[0mfloat\u001b[0m\u001b[1;33m)\u001b[0m\u001b[1;33m\u001b[0m\u001b[1;33m\u001b[0m\u001b[0m\n\u001b[0m",
      "\u001b[1;32m~\\anaconda3\\envs\\PyData\\lib\\site-packages\\pandas\\core\\frame.py\u001b[0m in \u001b[0;36m__getitem__\u001b[1;34m(self, key)\u001b[0m\n\u001b[0;32m   3022\u001b[0m             \u001b[1;32mif\u001b[0m \u001b[0mself\u001b[0m\u001b[1;33m.\u001b[0m\u001b[0mcolumns\u001b[0m\u001b[1;33m.\u001b[0m\u001b[0mnlevels\u001b[0m \u001b[1;33m>\u001b[0m \u001b[1;36m1\u001b[0m\u001b[1;33m:\u001b[0m\u001b[1;33m\u001b[0m\u001b[1;33m\u001b[0m\u001b[0m\n\u001b[0;32m   3023\u001b[0m                 \u001b[1;32mreturn\u001b[0m \u001b[0mself\u001b[0m\u001b[1;33m.\u001b[0m\u001b[0m_getitem_multilevel\u001b[0m\u001b[1;33m(\u001b[0m\u001b[0mkey\u001b[0m\u001b[1;33m)\u001b[0m\u001b[1;33m\u001b[0m\u001b[1;33m\u001b[0m\u001b[0m\n\u001b[1;32m-> 3024\u001b[1;33m             \u001b[0mindexer\u001b[0m \u001b[1;33m=\u001b[0m \u001b[0mself\u001b[0m\u001b[1;33m.\u001b[0m\u001b[0mcolumns\u001b[0m\u001b[1;33m.\u001b[0m\u001b[0mget_loc\u001b[0m\u001b[1;33m(\u001b[0m\u001b[0mkey\u001b[0m\u001b[1;33m)\u001b[0m\u001b[1;33m\u001b[0m\u001b[1;33m\u001b[0m\u001b[0m\n\u001b[0m\u001b[0;32m   3025\u001b[0m             \u001b[1;32mif\u001b[0m \u001b[0mis_integer\u001b[0m\u001b[1;33m(\u001b[0m\u001b[0mindexer\u001b[0m\u001b[1;33m)\u001b[0m\u001b[1;33m:\u001b[0m\u001b[1;33m\u001b[0m\u001b[1;33m\u001b[0m\u001b[0m\n\u001b[0;32m   3026\u001b[0m                 \u001b[0mindexer\u001b[0m \u001b[1;33m=\u001b[0m \u001b[1;33m[\u001b[0m\u001b[0mindexer\u001b[0m\u001b[1;33m]\u001b[0m\u001b[1;33m\u001b[0m\u001b[1;33m\u001b[0m\u001b[0m\n",
      "\u001b[1;32m~\\anaconda3\\envs\\PyData\\lib\\site-packages\\pandas\\core\\indexes\\base.py\u001b[0m in \u001b[0;36mget_loc\u001b[1;34m(self, key, method, tolerance)\u001b[0m\n\u001b[0;32m   3081\u001b[0m                 \u001b[1;32mreturn\u001b[0m \u001b[0mself\u001b[0m\u001b[1;33m.\u001b[0m\u001b[0m_engine\u001b[0m\u001b[1;33m.\u001b[0m\u001b[0mget_loc\u001b[0m\u001b[1;33m(\u001b[0m\u001b[0mcasted_key\u001b[0m\u001b[1;33m)\u001b[0m\u001b[1;33m\u001b[0m\u001b[1;33m\u001b[0m\u001b[0m\n\u001b[0;32m   3082\u001b[0m             \u001b[1;32mexcept\u001b[0m \u001b[0mKeyError\u001b[0m \u001b[1;32mas\u001b[0m \u001b[0merr\u001b[0m\u001b[1;33m:\u001b[0m\u001b[1;33m\u001b[0m\u001b[1;33m\u001b[0m\u001b[0m\n\u001b[1;32m-> 3083\u001b[1;33m                 \u001b[1;32mraise\u001b[0m \u001b[0mKeyError\u001b[0m\u001b[1;33m(\u001b[0m\u001b[0mkey\u001b[0m\u001b[1;33m)\u001b[0m \u001b[1;32mfrom\u001b[0m \u001b[0merr\u001b[0m\u001b[1;33m\u001b[0m\u001b[1;33m\u001b[0m\u001b[0m\n\u001b[0m\u001b[0;32m   3084\u001b[0m \u001b[1;33m\u001b[0m\u001b[0m\n\u001b[0;32m   3085\u001b[0m         \u001b[1;32mif\u001b[0m \u001b[0mtolerance\u001b[0m \u001b[1;32mis\u001b[0m \u001b[1;32mnot\u001b[0m \u001b[1;32mNone\u001b[0m\u001b[1;33m:\u001b[0m\u001b[1;33m\u001b[0m\u001b[1;33m\u001b[0m\u001b[0m\n",
      "\u001b[1;31mKeyError\u001b[0m: '#'"
     ]
    }
   ],
   "source": [
    "# change dtype of # column\n",
    "uninsured_adult_df['#'] = uninsured_adult_df['#'].str.replace(',', '').astype(float)"
   ]
  },
  {
   "cell_type": "code",
   "execution_count": null,
   "metadata": {},
   "outputs": [],
   "source": [
    "uninsured_adult_df = uninsured_adult_df.add_suffix('_adult_uninsured_2019')"
   ]
  },
  {
   "cell_type": "code",
   "execution_count": null,
   "metadata": {},
   "outputs": [],
   "source": [
    "uninsured_adult_df = uninsured_adult_df.rename(columns={'State_adult_uninsured_2019' : 'State'})"
   ]
  },
  {
   "cell_type": "code",
   "execution_count": null,
   "metadata": {},
   "outputs": [],
   "source": [
    "uninsured_adult_df.to_csv(r'resources\\adult_uninsured2019.csv', sep=',', index=False)"
   ]
  },
  {
   "cell_type": "code",
   "execution_count": null,
   "metadata": {},
   "outputs": [],
   "source": [
    "adult_access_df = pd.read_csv(r'resources\\adult_access2019.csv')"
   ]
  },
  {
   "cell_type": "code",
   "execution_count": null,
   "metadata": {},
   "outputs": [],
   "source": [
    "# change dtype of # column\n",
    "adult_access_df['#'] = adult_access_df['#'].str.replace(',', '').astype(float)"
   ]
  },
  {
   "cell_type": "code",
   "execution_count": null,
   "metadata": {},
   "outputs": [],
   "source": [
    "adult_access_df = adult_access_df.add_suffix('_adult_access_2019')"
   ]
  },
  {
   "cell_type": "code",
   "execution_count": null,
   "metadata": {},
   "outputs": [],
   "source": [
    "adult_access_df = adult_access_df.rename(columns={'State_adult_access_2019' : 'State'})"
   ]
  },
  {
   "cell_type": "code",
   "execution_count": null,
   "metadata": {},
   "outputs": [],
   "source": [
    "adult_access_df.to_csv(r'resources\\adult_access2019.csv', sep=',', index=False)"
   ]
  },
  {
   "cell_type": "code",
   "execution_count": 5,
   "metadata": {},
   "outputs": [],
   "source": [
    "# Access csv\n",
    "suicide_df = pd.read_csv(r'resources\\adult_suicide_clean2019.csv')\n",
    "# change dtype of # column\n",
    "suicide_df['#'] = suicide_df['#'].str.replace(',', '').astype(float)\n",
    "# Add suffix for DB table\n",
    "suicide_df = suicide_df.add_suffix('_adult_suicide_2019')\n",
    "# Make state PK\n",
    "suicide_df = suicide_df.rename(columns={'State_adult_suicide_2019' : 'State'})\n",
    "# Save changes\n",
    "suicide_df.to_csv(r'resources\\adult_suicide_clean2019.csv', sep=',', index=False)"
   ]
  },
  {
   "cell_type": "code",
   "execution_count": 8,
   "metadata": {},
   "outputs": [],
   "source": [
    "# Access csv\n",
    "unmet_df = pd.read_csv(r'resources\\adult_unmet_needs_clean_2019.csv')\n",
    "# change dtype of # column\n",
    "unmet_df['#'] = unmet_df['#'].str.replace(',', '').astype(float)\n",
    "# Add suffix for DB table\n",
    "unmet_df = unmet_df.add_suffix('_adult_unmet_need_2019')\n",
    "# Make state PK\n",
    "unmet_df = unmet_df.rename(columns={'State_adult_unmet_need_2019' : 'State'})\n",
    "# Save changes\n",
    "unmet_df.to_csv(r'resources\\adult_unmet_needs_clean_2019.csv', sep=',', index=False)"
   ]
  },
  {
   "cell_type": "code",
   "execution_count": 9,
   "metadata": {},
   "outputs": [],
   "source": [
    "# Access csv\n",
    "ami_adult_df = pd.read_csv(r'resources\\ami_csv2019.csv')\n",
    "# change dtype of # column\n",
    "ami_adult_df['#'] = ami_adult_df['#'].str.replace(',', '').astype(float)\n",
    "# Add suffix for DB table\n",
    "ami_adult_df = unmet_df.add_suffix('_adult_ami_2019')\n",
    "# Make state PK\n",
    "ami_adult_df = unmet_df.rename(columns={'State_adult_ami_2019' : 'State'})\n",
    "# Save changes\n",
    "ami_adult_df.to_csv(r'resources\\ami_csv2019.csv', sep=',', index=False)"
   ]
  },
  {
   "cell_type": "code",
   "execution_count": null,
   "metadata": {},
   "outputs": [],
   "source": [
    "# Access csv\n",
    "ami_adult_df = pd.read_csv(r'resources\\ami_csv2019.csv')\n",
    "# change dtype of # column\n",
    "ami_adult_df['#'] = ami_adult_df['#'].str.replace(',', '').astype(float)\n",
    "# Add suffix for DB table\n",
    "ami_adult_df = unmet_df.add_suffix('_adult_ami_2019')\n",
    "# Make state PK\n",
    "ami_adult_df = unmet_df.rename(columns={'State_adult_ami_2019' : 'State'})\n",
    "# Save changes\n",
    "ami_adult_df.to_csv(r'resources\\ami_csv2019.csv', sep=',', index=False)"
   ]
  },
  {
   "cell_type": "code",
   "execution_count": 10,
   "metadata": {},
   "outputs": [],
   "source": [
    "# Access csv\n",
    "df = pd.read_csv(r'resources\\no_doc_adult2019_clean.csv')\n",
    "# change dtype of # column\n",
    "df['#'] = df['#'].str.replace(',', '').astype(float)\n",
    "# Add suffix for DB table\n",
    "df = unmet_df.add_suffix('_no_doc_adult2019')\n",
    "# Make state PK\n",
    "df = df.rename(columns={'State_no_doc_adult2019' : 'State'})\n",
    "# Save changes\n",
    "df.to_csv(r'resources\\no_doc_adult2019_clean.csv', sep=',', index=False)"
   ]
  },
  {
   "cell_type": "code",
   "execution_count": 11,
   "metadata": {},
   "outputs": [],
   "source": [
    "# Access csv\n",
    "df = pd.read_csv(r'resources\\youth_ami_csv_clean_2019.csv')\n",
    "# change dtype of # column\n",
    "df['#'] = df['#'].str.replace(',', '').astype(float)\n",
    "# Add suffix for DB table\n",
    "df = unmet_df.add_suffix('_youth_ami_2019')\n",
    "# Make state PK\n",
    "df = df.rename(columns={'State_youth_ami_2019' : 'State'})\n",
    "# Save changes\n",
    "df.to_csv(r'resources\\youth_ami_csv_clean_2019.csv', sep=',', index=False)"
   ]
  },
  {
   "cell_type": "code",
   "execution_count": 12,
   "metadata": {},
   "outputs": [],
   "source": [
    "# Access csv\n",
    "df = pd.read_csv(r'resources\\youth_mde_clean2019.csv')\n",
    "# change dtype of # column\n",
    "df['#'] = df['#'].str.replace(',', '').astype(float)\n",
    "# Add suffix for DB table\n",
    "df = unmet_df.add_suffix('_youth_mde_2019')\n",
    "# Make state PK\n",
    "df = df.rename(columns={'State_youth_mde_2019' : 'State'})\n",
    "# Save changes\n",
    "df.to_csv(r'resources\\youth_mde_clean2019.csv', sep=',', index=False)"
   ]
  },
  {
   "cell_type": "code",
   "execution_count": 13,
   "metadata": {},
   "outputs": [],
   "source": [
    "# Access csv\n",
    "df = pd.read_csv(r'resources\\youth_no_mh_service2019.csv')\n",
    "# change dtype of # column\n",
    "df['#'] = df['#'].str.replace(',', '').astype(float)\n",
    "# Add suffix for DB table\n",
    "df = unmet_df.add_suffix('_youth_no_mh_service_2019')\n",
    "# Make state PK\n",
    "df = df.rename(columns={'State_youth_no_mh_service_2019' : 'State'})\n",
    "# Save changes\n",
    "df.to_csv(r'resources\\youth_no_mh_service2019.csv', sep=',', index=False)"
   ]
  },
  {
   "cell_type": "code",
   "execution_count": 14,
   "metadata": {},
   "outputs": [],
   "source": [
    "# Access csv\n",
    "df = pd.read_csv(r'resources\\youth_some_mh_service_clean2019.csv')\n",
    "# change dtype of # column\n",
    "df['#'] = df['#'].str.replace(',', '').astype(float)\n",
    "# Add suffix for DB table\n",
    "df = unmet_df.add_suffix('_youth_some_mh_service_2019')\n",
    "# Make state PK\n",
    "df = df.rename(columns={'State_youth_some_mh_service_2019' : 'State'})\n",
    "# Save changes\n",
    "df.to_csv(r'resources\\youth_some_mh_service_clean2019.csv', sep=',', index=False)"
   ]
  }
 ],
 "metadata": {
  "interpreter": {
   "hash": "7829a8a9740bf35ce0d99eaef6f9b78ba8db1856c4a7cf99972e3bb293bfaf99"
  },
  "kernelspec": {
   "display_name": "Python 3.9.5 64-bit ('PyData': conda)",
   "name": "python3"
  },
  "language_info": {
   "codemirror_mode": {
    "name": "ipython",
    "version": 3
   },
   "file_extension": ".py",
   "mimetype": "text/x-python",
   "name": "python",
   "nbconvert_exporter": "python",
   "pygments_lexer": "ipython3",
   "version": "3.9.5"
  },
  "orig_nbformat": 4
 },
 "nbformat": 4,
 "nbformat_minor": 2
}
