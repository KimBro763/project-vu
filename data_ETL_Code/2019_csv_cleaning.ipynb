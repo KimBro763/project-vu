{
 "cells": [
  {
   "cell_type": "code",
   "execution_count": 29,
   "metadata": {},
   "outputs": [],
   "source": [
    "import pandas as pd\n",
    "from sqlalchemy import create_engine\n",
    "import psycopg2\n",
    "from config import db_password\n",
    "import os\n",
    "from os import listdir\n",
    "from os.path import isfile, join\n",
    "from pathlib import Path"
   ]
  },
  {
   "cell_type": "code",
   "execution_count": 2,
   "metadata": {},
   "outputs": [],
   "source": [
    "uninsured_adult_df = pd.read_csv(r'resources\\adult_uninsured2019.csv')"
   ]
  },
  {
   "cell_type": "code",
   "execution_count": 3,
   "metadata": {},
   "outputs": [
    {
     "ename": "KeyError",
     "evalue": "'#'",
     "output_type": "error",
     "traceback": [
      "\u001b[1;31m---------------------------------------------------------------------------\u001b[0m",
      "\u001b[1;31mKeyError\u001b[0m                                  Traceback (most recent call last)",
      "\u001b[1;32m~\\anaconda3\\envs\\PyData\\lib\\site-packages\\pandas\\core\\indexes\\base.py\u001b[0m in \u001b[0;36mget_loc\u001b[1;34m(self, key, method, tolerance)\u001b[0m\n\u001b[0;32m   3080\u001b[0m             \u001b[1;32mtry\u001b[0m\u001b[1;33m:\u001b[0m\u001b[1;33m\u001b[0m\u001b[1;33m\u001b[0m\u001b[0m\n\u001b[1;32m-> 3081\u001b[1;33m                 \u001b[1;32mreturn\u001b[0m \u001b[0mself\u001b[0m\u001b[1;33m.\u001b[0m\u001b[0m_engine\u001b[0m\u001b[1;33m.\u001b[0m\u001b[0mget_loc\u001b[0m\u001b[1;33m(\u001b[0m\u001b[0mcasted_key\u001b[0m\u001b[1;33m)\u001b[0m\u001b[1;33m\u001b[0m\u001b[1;33m\u001b[0m\u001b[0m\n\u001b[0m\u001b[0;32m   3082\u001b[0m             \u001b[1;32mexcept\u001b[0m \u001b[0mKeyError\u001b[0m \u001b[1;32mas\u001b[0m \u001b[0merr\u001b[0m\u001b[1;33m:\u001b[0m\u001b[1;33m\u001b[0m\u001b[1;33m\u001b[0m\u001b[0m\n",
      "\u001b[1;32mpandas\\_libs\\index.pyx\u001b[0m in \u001b[0;36mpandas._libs.index.IndexEngine.get_loc\u001b[1;34m()\u001b[0m\n",
      "\u001b[1;32mpandas\\_libs\\index.pyx\u001b[0m in \u001b[0;36mpandas._libs.index.IndexEngine.get_loc\u001b[1;34m()\u001b[0m\n",
      "\u001b[1;32mpandas\\_libs\\hashtable_class_helper.pxi\u001b[0m in \u001b[0;36mpandas._libs.hashtable.PyObjectHashTable.get_item\u001b[1;34m()\u001b[0m\n",
      "\u001b[1;32mpandas\\_libs\\hashtable_class_helper.pxi\u001b[0m in \u001b[0;36mpandas._libs.hashtable.PyObjectHashTable.get_item\u001b[1;34m()\u001b[0m\n",
      "\u001b[1;31mKeyError\u001b[0m: '#'",
      "\nThe above exception was the direct cause of the following exception:\n",
      "\u001b[1;31mKeyError\u001b[0m                                  Traceback (most recent call last)",
      "\u001b[1;32m~\\AppData\\Local\\Temp/ipykernel_4380/4288546305.py\u001b[0m in \u001b[0;36m<module>\u001b[1;34m\u001b[0m\n\u001b[0;32m      1\u001b[0m \u001b[1;31m# change dtype of # column\u001b[0m\u001b[1;33m\u001b[0m\u001b[1;33m\u001b[0m\u001b[1;33m\u001b[0m\u001b[0m\n\u001b[1;32m----> 2\u001b[1;33m \u001b[0muninsured_adult_df\u001b[0m\u001b[1;33m[\u001b[0m\u001b[1;34m'#'\u001b[0m\u001b[1;33m]\u001b[0m \u001b[1;33m=\u001b[0m \u001b[0muninsured_adult_df\u001b[0m\u001b[1;33m[\u001b[0m\u001b[1;34m'#'\u001b[0m\u001b[1;33m]\u001b[0m\u001b[1;33m.\u001b[0m\u001b[0mstr\u001b[0m\u001b[1;33m.\u001b[0m\u001b[0mreplace\u001b[0m\u001b[1;33m(\u001b[0m\u001b[1;34m','\u001b[0m\u001b[1;33m,\u001b[0m \u001b[1;34m''\u001b[0m\u001b[1;33m)\u001b[0m\u001b[1;33m.\u001b[0m\u001b[0mastype\u001b[0m\u001b[1;33m(\u001b[0m\u001b[0mfloat\u001b[0m\u001b[1;33m)\u001b[0m\u001b[1;33m\u001b[0m\u001b[1;33m\u001b[0m\u001b[0m\n\u001b[0m",
      "\u001b[1;32m~\\anaconda3\\envs\\PyData\\lib\\site-packages\\pandas\\core\\frame.py\u001b[0m in \u001b[0;36m__getitem__\u001b[1;34m(self, key)\u001b[0m\n\u001b[0;32m   3022\u001b[0m             \u001b[1;32mif\u001b[0m \u001b[0mself\u001b[0m\u001b[1;33m.\u001b[0m\u001b[0mcolumns\u001b[0m\u001b[1;33m.\u001b[0m\u001b[0mnlevels\u001b[0m \u001b[1;33m>\u001b[0m \u001b[1;36m1\u001b[0m\u001b[1;33m:\u001b[0m\u001b[1;33m\u001b[0m\u001b[1;33m\u001b[0m\u001b[0m\n\u001b[0;32m   3023\u001b[0m                 \u001b[1;32mreturn\u001b[0m \u001b[0mself\u001b[0m\u001b[1;33m.\u001b[0m\u001b[0m_getitem_multilevel\u001b[0m\u001b[1;33m(\u001b[0m\u001b[0mkey\u001b[0m\u001b[1;33m)\u001b[0m\u001b[1;33m\u001b[0m\u001b[1;33m\u001b[0m\u001b[0m\n\u001b[1;32m-> 3024\u001b[1;33m             \u001b[0mindexer\u001b[0m \u001b[1;33m=\u001b[0m \u001b[0mself\u001b[0m\u001b[1;33m.\u001b[0m\u001b[0mcolumns\u001b[0m\u001b[1;33m.\u001b[0m\u001b[0mget_loc\u001b[0m\u001b[1;33m(\u001b[0m\u001b[0mkey\u001b[0m\u001b[1;33m)\u001b[0m\u001b[1;33m\u001b[0m\u001b[1;33m\u001b[0m\u001b[0m\n\u001b[0m\u001b[0;32m   3025\u001b[0m             \u001b[1;32mif\u001b[0m \u001b[0mis_integer\u001b[0m\u001b[1;33m(\u001b[0m\u001b[0mindexer\u001b[0m\u001b[1;33m)\u001b[0m\u001b[1;33m:\u001b[0m\u001b[1;33m\u001b[0m\u001b[1;33m\u001b[0m\u001b[0m\n\u001b[0;32m   3026\u001b[0m                 \u001b[0mindexer\u001b[0m \u001b[1;33m=\u001b[0m \u001b[1;33m[\u001b[0m\u001b[0mindexer\u001b[0m\u001b[1;33m]\u001b[0m\u001b[1;33m\u001b[0m\u001b[1;33m\u001b[0m\u001b[0m\n",
      "\u001b[1;32m~\\anaconda3\\envs\\PyData\\lib\\site-packages\\pandas\\core\\indexes\\base.py\u001b[0m in \u001b[0;36mget_loc\u001b[1;34m(self, key, method, tolerance)\u001b[0m\n\u001b[0;32m   3081\u001b[0m                 \u001b[1;32mreturn\u001b[0m \u001b[0mself\u001b[0m\u001b[1;33m.\u001b[0m\u001b[0m_engine\u001b[0m\u001b[1;33m.\u001b[0m\u001b[0mget_loc\u001b[0m\u001b[1;33m(\u001b[0m\u001b[0mcasted_key\u001b[0m\u001b[1;33m)\u001b[0m\u001b[1;33m\u001b[0m\u001b[1;33m\u001b[0m\u001b[0m\n\u001b[0;32m   3082\u001b[0m             \u001b[1;32mexcept\u001b[0m \u001b[0mKeyError\u001b[0m \u001b[1;32mas\u001b[0m \u001b[0merr\u001b[0m\u001b[1;33m:\u001b[0m\u001b[1;33m\u001b[0m\u001b[1;33m\u001b[0m\u001b[0m\n\u001b[1;32m-> 3083\u001b[1;33m                 \u001b[1;32mraise\u001b[0m \u001b[0mKeyError\u001b[0m\u001b[1;33m(\u001b[0m\u001b[0mkey\u001b[0m\u001b[1;33m)\u001b[0m \u001b[1;32mfrom\u001b[0m \u001b[0merr\u001b[0m\u001b[1;33m\u001b[0m\u001b[1;33m\u001b[0m\u001b[0m\n\u001b[0m\u001b[0;32m   3084\u001b[0m \u001b[1;33m\u001b[0m\u001b[0m\n\u001b[0;32m   3085\u001b[0m         \u001b[1;32mif\u001b[0m \u001b[0mtolerance\u001b[0m \u001b[1;32mis\u001b[0m \u001b[1;32mnot\u001b[0m \u001b[1;32mNone\u001b[0m\u001b[1;33m:\u001b[0m\u001b[1;33m\u001b[0m\u001b[1;33m\u001b[0m\u001b[0m\n",
      "\u001b[1;31mKeyError\u001b[0m: '#'"
     ]
    }
   ],
   "source": [
    "# change dtype of # column\n",
    "uninsured_adult_df['#'] = uninsured_adult_df['#'].str.replace(',', '').astype(float)"
   ]
  },
  {
   "cell_type": "code",
   "execution_count": null,
   "metadata": {},
   "outputs": [],
   "source": [
    "uninsured_adult_df = uninsured_adult_df.add_suffix('_adult_uninsured_2019')"
   ]
  },
  {
   "cell_type": "code",
   "execution_count": null,
   "metadata": {},
   "outputs": [],
   "source": [
    "uninsured_adult_df = uninsured_adult_df.rename(columns={'State_adult_uninsured_2019' : 'State'})"
   ]
  },
  {
   "cell_type": "code",
   "execution_count": null,
   "metadata": {},
   "outputs": [],
   "source": [
    "uninsured_adult_df.to_csv(r'resources\\adult_uninsured2019.csv', sep=',', index=False)"
   ]
  },
  {
   "cell_type": "code",
   "execution_count": null,
   "metadata": {},
   "outputs": [],
   "source": [
    "adult_access_df = pd.read_csv(r'resources\\adult_access2019.csv')"
   ]
  },
  {
   "cell_type": "code",
   "execution_count": null,
   "metadata": {},
   "outputs": [],
   "source": [
    "# change dtype of # column\n",
    "adult_access_df['#'] = adult_access_df['#'].str.replace(',', '').astype(float)"
   ]
  },
  {
   "cell_type": "code",
   "execution_count": null,
   "metadata": {},
   "outputs": [],
   "source": [
    "adult_access_df = adult_access_df.add_suffix('_adult_access_2019')"
   ]
  },
  {
   "cell_type": "code",
   "execution_count": null,
   "metadata": {},
   "outputs": [],
   "source": [
    "adult_access_df = adult_access_df.rename(columns={'State_adult_access_2019' : 'State'})"
   ]
  },
  {
   "cell_type": "code",
   "execution_count": null,
   "metadata": {},
   "outputs": [],
   "source": [
    "adult_access_df.to_csv(r'resources\\adult_access2019.csv', sep=',', index=False)"
   ]
  },
  {
   "cell_type": "code",
   "execution_count": 5,
   "metadata": {},
   "outputs": [],
   "source": [
    "# Access csv\n",
    "suicide_df = pd.read_csv(r'resources\\adult_suicide_clean2019.csv')\n",
    "# change dtype of # column\n",
    "suicide_df['#'] = suicide_df['#'].str.replace(',', '').astype(float)\n",
    "# Add suffix for DB table\n",
    "suicide_df = suicide_df.add_suffix('_adult_suicide_2019')\n",
    "# Make state PK\n",
    "suicide_df = suicide_df.rename(columns={'State_adult_suicide_2019' : 'State'})\n",
    "# Save changes\n",
    "suicide_df.to_csv(r'resources\\adult_suicide_clean2019.csv', sep=',', index=False)"
   ]
  },
  {
   "cell_type": "code",
   "execution_count": 8,
   "metadata": {},
   "outputs": [],
   "source": [
    "# Access csv\n",
    "unmet_df = pd.read_csv(r'resources\\adult_unmet_needs_clean_2019.csv')\n",
    "# change dtype of # column\n",
    "unmet_df['#'] = unmet_df['#'].str.replace(',', '').astype(float)\n",
    "# Add suffix for DB table\n",
    "unmet_df = unmet_df.add_suffix('_adult_unmet_need_2019')\n",
    "# Make state PK\n",
    "unmet_df = unmet_df.rename(columns={'State_adult_unmet_need_2019' : 'State'})\n",
    "# Save changes\n",
    "unmet_df.to_csv(r'resources\\adult_unmet_needs_clean_2019.csv', sep=',', index=False)"
   ]
  },
  {
   "cell_type": "code",
   "execution_count": 9,
   "metadata": {},
   "outputs": [],
   "source": [
    "# Access csv\n",
    "ami_adult_df = pd.read_csv(r'resources\\ami_csv2019.csv')\n",
    "# change dtype of # column\n",
    "ami_adult_df['#'] = ami_adult_df['#'].str.replace(',', '').astype(float)\n",
    "# Add suffix for DB table\n",
    "ami_adult_df = unmet_df.add_suffix('_adult_ami_2019')\n",
    "# Make state PK\n",
    "ami_adult_df = unmet_df.rename(columns={'State_adult_ami_2019' : 'State'})\n",
    "# Save changes\n",
    "ami_adult_df.to_csv(r'resources\\ami_csv2019.csv', sep=',', index=False)"
   ]
  },
  {
   "cell_type": "code",
   "execution_count": null,
   "metadata": {},
   "outputs": [],
   "source": [
    "# Access csv\n",
    "ami_adult_df = pd.read_csv(r'resources\\ami_csv2019.csv')\n",
    "# change dtype of # column\n",
    "ami_adult_df['#'] = ami_adult_df['#'].str.replace(',', '').astype(float)\n",
    "# Add suffix for DB table\n",
    "ami_adult_df = unmet_df.add_suffix('_adult_ami_2019')\n",
    "# Make state PK\n",
    "ami_adult_df = unmet_df.rename(columns={'State_adult_ami_2019' : 'State'})\n",
    "# Save changes\n",
    "ami_adult_df.to_csv(r'resources\\ami_csv2019.csv', sep=',', index=False)"
   ]
  },
  {
   "cell_type": "code",
   "execution_count": 10,
   "metadata": {},
   "outputs": [],
   "source": [
    "# Access csv\n",
    "df = pd.read_csv(r'resources\\no_doc_adult2019_clean.csv')\n",
    "# change dtype of # column\n",
    "df['#'] = df['#'].str.replace(',', '').astype(float)\n",
    "# Add suffix for DB table\n",
    "df = unmet_df.add_suffix('_no_doc_adult2019')\n",
    "# Make state PK\n",
    "df = df.rename(columns={'State_no_doc_adult2019' : 'State'})\n",
    "# Save changes\n",
    "df.to_csv(r'resources\\no_doc_adult2019_clean.csv', sep=',', index=False)"
   ]
  },
  {
   "cell_type": "code",
   "execution_count": 11,
   "metadata": {},
   "outputs": [],
   "source": [
    "# Access csv\n",
    "df = pd.read_csv(r'resources\\youth_ami_csv_clean_2019.csv')\n",
    "# change dtype of # column\n",
    "df['#'] = df['#'].str.replace(',', '').astype(float)\n",
    "# Add suffix for DB table\n",
    "df = unmet_df.add_suffix('_youth_ami_2019')\n",
    "# Make state PK\n",
    "df = df.rename(columns={'State_youth_ami_2019' : 'State'})\n",
    "# Save changes\n",
    "df.to_csv(r'resources\\youth_ami_csv_clean_2019.csv', sep=',', index=False)"
   ]
  },
  {
   "cell_type": "code",
   "execution_count": 12,
   "metadata": {},
   "outputs": [],
   "source": [
    "# Access csv\n",
    "df = pd.read_csv(r'resources\\youth_mde_clean2019.csv')\n",
    "# change dtype of # column\n",
    "df['#'] = df['#'].str.replace(',', '').astype(float)\n",
    "# Add suffix for DB table\n",
    "df = unmet_df.add_suffix('_youth_mde_2019')\n",
    "# Make state PK\n",
    "df = df.rename(columns={'State_youth_mde_2019' : 'State'})\n",
    "# Save changes\n",
    "df.to_csv(r'resources\\youth_mde_clean2019.csv', sep=',', index=False)"
   ]
  },
  {
   "cell_type": "code",
   "execution_count": 13,
   "metadata": {},
   "outputs": [],
   "source": [
    "# Access csv\n",
    "df = pd.read_csv(r'resources\\youth_no_mh_service2019.csv')\n",
    "# change dtype of # column\n",
    "df['#'] = df['#'].str.replace(',', '').astype(float)\n",
    "# Add suffix for DB table\n",
    "df = unmet_df.add_suffix('_youth_no_mh_service_2019')\n",
    "# Make state PK\n",
    "df = df.rename(columns={'State_youth_no_mh_service_2019' : 'State'})\n",
    "# Save changes\n",
    "df.to_csv(r'resources\\youth_no_mh_service2019.csv', sep=',', index=False)"
   ]
  },
  {
   "cell_type": "code",
   "execution_count": 14,
   "metadata": {},
   "outputs": [],
   "source": [
    "# Access csv\n",
    "df = pd.read_csv(r'resources\\youth_some_mh_service_clean2019.csv')\n",
    "# change dtype of # column\n",
    "df['#'] = df['#'].str.replace(',', '').astype(float)\n",
    "# Add suffix for DB table\n",
    "df = unmet_df.add_suffix('_youth_some_mh_service_2019')\n",
    "# Make state PK\n",
    "df = df.rename(columns={'State_youth_some_mh_service_2019' : 'State'})\n",
    "# Save changes\n",
    "df.to_csv(r'resources\\youth_some_mh_service_clean2019.csv', sep=',', index=False)"
   ]
  },
  {
   "cell_type": "code",
   "execution_count": 24,
   "metadata": {},
   "outputs": [
    {
     "data": {
      "text/html": [
       "<div>\n",
       "<style scoped>\n",
       "    .dataframe tbody tr th:only-of-type {\n",
       "        vertical-align: middle;\n",
       "    }\n",
       "\n",
       "    .dataframe tbody tr th {\n",
       "        vertical-align: top;\n",
       "    }\n",
       "\n",
       "    .dataframe thead th {\n",
       "        text-align: right;\n",
       "    }\n",
       "</style>\n",
       "<table border=\"1\" class=\"dataframe\">\n",
       "  <thead>\n",
       "    <tr style=\"text-align: right;\">\n",
       "      <th></th>\n",
       "      <th>Rank_adult_uninsured_2019</th>\n",
       "      <th>State</th>\n",
       "      <th>%_adult_uninsured_2019</th>\n",
       "      <th>#_adult_uninsured_2019</th>\n",
       "      <th>Rank.1_adult_uninsured_2019</th>\n",
       "      <th>State.1_adult_uninsured_2019</th>\n",
       "      <th>%.1_adult_uninsured_2019</th>\n",
       "      <th>#.1_adult_uninsured_2019</th>\n",
       "    </tr>\n",
       "  </thead>\n",
       "  <tbody>\n",
       "    <tr>\n",
       "      <th>0</th>\n",
       "      <td>1</td>\n",
       "      <td>Massachusetts</td>\n",
       "      <td>2.2</td>\n",
       "      <td>23000.0</td>\n",
       "      <td>27.0</td>\n",
       "      <td>Arkansas</td>\n",
       "      <td>11.4</td>\n",
       "      <td>52,000</td>\n",
       "    </tr>\n",
       "    <tr>\n",
       "      <th>1</th>\n",
       "      <td>2</td>\n",
       "      <td>District of Columbia</td>\n",
       "      <td>4.3</td>\n",
       "      <td>4000.0</td>\n",
       "      <td>28.0</td>\n",
       "      <td>Illinois</td>\n",
       "      <td>11.8</td>\n",
       "      <td>175,000</td>\n",
       "    </tr>\n",
       "    <tr>\n",
       "      <th>2</th>\n",
       "      <td>3</td>\n",
       "      <td>Rhode Island</td>\n",
       "      <td>5.1</td>\n",
       "      <td>9000.0</td>\n",
       "      <td>29.0</td>\n",
       "      <td>South Dakota</td>\n",
       "      <td>11.8</td>\n",
       "      <td>12,000</td>\n",
       "    </tr>\n",
       "    <tr>\n",
       "      <th>3</th>\n",
       "      <td>4</td>\n",
       "      <td>Minnesota</td>\n",
       "      <td>5.3</td>\n",
       "      <td>41000.0</td>\n",
       "      <td>30.0</td>\n",
       "      <td>Indiana</td>\n",
       "      <td>12.3</td>\n",
       "      <td>124,000</td>\n",
       "    </tr>\n",
       "    <tr>\n",
       "      <th>4</th>\n",
       "      <td>5</td>\n",
       "      <td>Hawaii</td>\n",
       "      <td>5.6</td>\n",
       "      <td>9000.0</td>\n",
       "      <td>31.0</td>\n",
       "      <td>Maine</td>\n",
       "      <td>13.0</td>\n",
       "      <td>26,000</td>\n",
       "    </tr>\n",
       "  </tbody>\n",
       "</table>\n",
       "</div>"
      ],
      "text/plain": [
       "   Rank_adult_uninsured_2019                 State  %_adult_uninsured_2019  \\\n",
       "0                          1         Massachusetts                     2.2   \n",
       "1                          2  District of Columbia                     4.3   \n",
       "2                          3          Rhode Island                     5.1   \n",
       "3                          4             Minnesota                     5.3   \n",
       "4                          5                Hawaii                     5.6   \n",
       "\n",
       "   #_adult_uninsured_2019  Rank.1_adult_uninsured_2019  \\\n",
       "0                 23000.0                         27.0   \n",
       "1                  4000.0                         28.0   \n",
       "2                  9000.0                         29.0   \n",
       "3                 41000.0                         30.0   \n",
       "4                  9000.0                         31.0   \n",
       "\n",
       "  State.1_adult_uninsured_2019  %.1_adult_uninsured_2019  \\\n",
       "0                     Arkansas                      11.4   \n",
       "1                     Illinois                      11.8   \n",
       "2                 South Dakota                      11.8   \n",
       "3                      Indiana                      12.3   \n",
       "4                        Maine                      13.0   \n",
       "\n",
       "  #.1_adult_uninsured_2019  \n",
       "0                   52,000  \n",
       "1                  175,000  \n",
       "2                   12,000  \n",
       "3                  124,000  \n",
       "4                   26,000  "
      ]
     },
     "execution_count": 24,
     "metadata": {},
     "output_type": "execute_result"
    }
   ],
   "source": [
    "# Access 2019 uninsured CSV\n",
    "adult_uninsured2019 = pd.read_csv(r'resources\\adult_uninsured2019.csv')\n",
    "adult_uninsured2019.head()"
   ]
  },
  {
   "cell_type": "code",
   "execution_count": 25,
   "metadata": {},
   "outputs": [],
   "source": [
    "\n",
    "# Split Dataframe\n",
    "adult_uninsured2019_2 = adult_uninsured2019[[\"Rank.1_adult_uninsured_2019\", \"State.1_adult_uninsured_2019\", \"%.1_adult_uninsured_2019\", \"#.1_adult_uninsured_2019\"]]\n",
    "# Rename columns of split dataframe\n",
    "adult_uninsured2019_2 = adult_uninsured2019_2.rename(columns={\"Rank.1_adult_uninsured_2019\": \"Rank_adult_uninsured_2019\", \"State.1_adult_uninsured_2019\": \"State\", \"%.1_adult_uninsured_2019\" : \"%_adult_uninsured_2019\", \"#.1_adult_uninsured_2019\": \"#_adult_uninsured_2019\"})\n"
   ]
  },
  {
   "cell_type": "code",
   "execution_count": 26,
   "metadata": {},
   "outputs": [],
   "source": [
    "# Drop columns that were split from original dataframe\n",
    "adult_uninsured2019 = adult_uninsured2019.drop(columns=[\"Rank.1_adult_uninsured_2019\", \"State.1_adult_uninsured_2019\", \"%.1_adult_uninsured_2019\", \"#.1_adult_uninsured_2019\"])"
   ]
  },
  {
   "cell_type": "code",
   "execution_count": 27,
   "metadata": {},
   "outputs": [],
   "source": [
    "# Append dataframes backtogether\n",
    "adult_uninsured2019 = adult_uninsured2019.append(adult_uninsured2019_2)"
   ]
  },
  {
   "cell_type": "code",
   "execution_count": 30,
   "metadata": {},
   "outputs": [],
   "source": [
    "# Setup postgres variables\n",
    "pg_user = \"postgres\"\n",
    "pg_pwd = db_password\n",
    "pg_port = \"5432\"\n",
    "host = 'project-vu-database-piecharts.c7rvpt2rehpr.us-east-2.rds.amazonaws.com'"
   ]
  },
  {
   "cell_type": "code",
   "execution_count": 31,
   "metadata": {},
   "outputs": [],
   "source": [
    "# Create connection string\n",
    "db_string = \"postgresql://{username}:{password}@{host}:{port}/project_db\".format(username=pg_user, password=pg_pwd, host = host, port=pg_port)"
   ]
  },
  {
   "cell_type": "code",
   "execution_count": 32,
   "metadata": {},
   "outputs": [],
   "source": [
    "# Connect to the database engine\n",
    "engine = create_engine(db_string)"
   ]
  },
  {
   "cell_type": "code",
   "execution_count": 33,
   "metadata": {},
   "outputs": [],
   "source": [
    "adult_uninsured2019.to_sql(name='adult_uninsured2019', if_exists='replace', con=engine, index=False)"
   ]
  }
 ],
 "metadata": {
  "interpreter": {
   "hash": "7829a8a9740bf35ce0d99eaef6f9b78ba8db1856c4a7cf99972e3bb293bfaf99"
  },
  "kernelspec": {
   "display_name": "Python 3.9.5 64-bit ('PyData': conda)",
   "name": "python3"
  },
  "language_info": {
   "codemirror_mode": {
    "name": "ipython",
    "version": 3
   },
   "file_extension": ".py",
   "mimetype": "text/x-python",
   "name": "python",
   "nbconvert_exporter": "python",
   "pygments_lexer": "ipython3",
   "version": "3.9.5"
  },
  "orig_nbformat": 4
 },
 "nbformat": 4,
 "nbformat_minor": 2
}
