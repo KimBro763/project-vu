{
 "cells": [
  {
   "cell_type": "code",
   "execution_count": 18,
   "metadata": {},
   "outputs": [],
   "source": [
    "import pandas as pd\n",
    "import numpy as np\n"
   ]
  },
  {
   "cell_type": "code",
   "execution_count": 19,
   "metadata": {},
   "outputs": [],
   "source": [
    "file_path=\"/Users/pazilatn/Desktop/github/project-vu/resources/adultmentalcareacess20.csv\"\n",
    "\n",
    "mental_care_cost=pd.read_csv(file_path)"
   ]
  },
  {
   "cell_type": "code",
   "execution_count": 20,
   "metadata": {},
   "outputs": [
    {
     "data": {
      "text/html": [
       "<div>\n",
       "<style scoped>\n",
       "    .dataframe tbody tr th:only-of-type {\n",
       "        vertical-align: middle;\n",
       "    }\n",
       "\n",
       "    .dataframe tbody tr th {\n",
       "        vertical-align: top;\n",
       "    }\n",
       "\n",
       "    .dataframe thead th {\n",
       "        text-align: right;\n",
       "    }\n",
       "</style>\n",
       "<table border=\"1\" class=\"dataframe\">\n",
       "  <thead>\n",
       "    <tr style=\"text-align: right;\">\n",
       "      <th></th>\n",
       "      <th>FAMINCTC_A</th>\n",
       "      <th>RACEALLP_A</th>\n",
       "      <th>MAXEDUC_A</th>\n",
       "      <th>REGION</th>\n",
       "      <th>SEX_A</th>\n",
       "      <th>AGEP_A</th>\n",
       "      <th>MHTHND_A</th>\n",
       "    </tr>\n",
       "  </thead>\n",
       "  <tbody>\n",
       "    <tr>\n",
       "      <th>0</th>\n",
       "      <td>100000</td>\n",
       "      <td>1</td>\n",
       "      <td>8.0</td>\n",
       "      <td>3</td>\n",
       "      <td>1</td>\n",
       "      <td>85</td>\n",
       "      <td>2</td>\n",
       "    </tr>\n",
       "    <tr>\n",
       "      <th>1</th>\n",
       "      <td>75000</td>\n",
       "      <td>1</td>\n",
       "      <td>5.0</td>\n",
       "      <td>3</td>\n",
       "      <td>1</td>\n",
       "      <td>39</td>\n",
       "      <td>2</td>\n",
       "    </tr>\n",
       "    <tr>\n",
       "      <th>2</th>\n",
       "      <td>90000</td>\n",
       "      <td>2</td>\n",
       "      <td>4.0</td>\n",
       "      <td>3</td>\n",
       "      <td>1</td>\n",
       "      <td>42</td>\n",
       "      <td>2</td>\n",
       "    </tr>\n",
       "    <tr>\n",
       "      <th>3</th>\n",
       "      <td>65000</td>\n",
       "      <td>1</td>\n",
       "      <td>8.0</td>\n",
       "      <td>3</td>\n",
       "      <td>1</td>\n",
       "      <td>32</td>\n",
       "      <td>2</td>\n",
       "    </tr>\n",
       "    <tr>\n",
       "      <th>4</th>\n",
       "      <td>25762</td>\n",
       "      <td>1</td>\n",
       "      <td>4.0</td>\n",
       "      <td>3</td>\n",
       "      <td>2</td>\n",
       "      <td>85</td>\n",
       "      <td>2</td>\n",
       "    </tr>\n",
       "  </tbody>\n",
       "</table>\n",
       "</div>"
      ],
      "text/plain": [
       "   FAMINCTC_A  RACEALLP_A  MAXEDUC_A  REGION  SEX_A  AGEP_A  MHTHND_A\n",
       "0      100000           1        8.0       3      1      85         2\n",
       "1       75000           1        5.0       3      1      39         2\n",
       "2       90000           2        4.0       3      1      42         2\n",
       "3       65000           1        8.0       3      1      32         2\n",
       "4       25762           1        4.0       3      2      85         2"
      ]
     },
     "execution_count": 20,
     "metadata": {},
     "output_type": "execute_result"
    }
   ],
   "source": [
    "mental_care_cost.head()"
   ]
  },
  {
   "cell_type": "code",
   "execution_count": 21,
   "metadata": {},
   "outputs": [
    {
     "name": "stdout",
     "output_type": "stream",
     "text": [
      "<class 'pandas.core.frame.DataFrame'>\n",
      "RangeIndex: 31568 entries, 0 to 31567\n",
      "Data columns (total 7 columns):\n",
      " #   Column      Non-Null Count  Dtype  \n",
      "---  ------      --------------  -----  \n",
      " 0   FAMINCTC_A  31568 non-null  int64  \n",
      " 1   RACEALLP_A  31568 non-null  int64  \n",
      " 2   MAXEDUC_A   31497 non-null  float64\n",
      " 3   REGION      31568 non-null  int64  \n",
      " 4   SEX_A       31568 non-null  int64  \n",
      " 5   AGEP_A      31568 non-null  int64  \n",
      " 6   MHTHND_A    31568 non-null  int64  \n",
      "dtypes: float64(1), int64(6)\n",
      "memory usage: 1.7 MB\n"
     ]
    }
   ],
   "source": [
    "mental_care_cost.info()"
   ]
  },
  {
   "cell_type": "code",
   "execution_count": 22,
   "metadata": {},
   "outputs": [],
   "source": [
    "mental_care_df=mental_care_cost.dropna()"
   ]
  },
  {
   "cell_type": "code",
   "execution_count": 23,
   "metadata": {},
   "outputs": [
    {
     "name": "stdout",
     "output_type": "stream",
     "text": [
      "<class 'pandas.core.frame.DataFrame'>\n",
      "Int64Index: 31497 entries, 0 to 31567\n",
      "Data columns (total 7 columns):\n",
      " #   Column      Non-Null Count  Dtype  \n",
      "---  ------      --------------  -----  \n",
      " 0   FAMINCTC_A  31497 non-null  int64  \n",
      " 1   RACEALLP_A  31497 non-null  int64  \n",
      " 2   MAXEDUC_A   31497 non-null  float64\n",
      " 3   REGION      31497 non-null  int64  \n",
      " 4   SEX_A       31497 non-null  int64  \n",
      " 5   AGEP_A      31497 non-null  int64  \n",
      " 6   MHTHND_A    31497 non-null  int64  \n",
      "dtypes: float64(1), int64(6)\n",
      "memory usage: 1.9 MB\n"
     ]
    }
   ],
   "source": [
    "mental_care_df.info()"
   ]
  },
  {
   "cell_type": "code",
   "execution_count": 24,
   "metadata": {},
   "outputs": [
    {
     "data": {
      "text/plain": [
       "2    29851\n",
       "1     1252\n",
       "8      359\n",
       "7       26\n",
       "9        9\n",
       "Name: MHTHND_A, dtype: int64"
      ]
     },
     "execution_count": 24,
     "metadata": {},
     "output_type": "execute_result"
    }
   ],
   "source": [
    "mental_care_df[\"MHTHND_A\"].value_counts()"
   ]
  },
  {
   "cell_type": "code",
   "execution_count": 25,
   "metadata": {},
   "outputs": [],
   "source": [
    "mentalcare_df=mental_care_df.loc[(mental_care_df[\"MHTHND_A\"]==1) | (mental_care_df[\"MHTHND_A\"]==2)]"
   ]
  },
  {
   "cell_type": "code",
   "execution_count": 28,
   "metadata": {},
   "outputs": [
    {
     "data": {
      "text/plain": [
       "2    29851\n",
       "1     1252\n",
       "Name: MHTHND_A, dtype: int64"
      ]
     },
     "execution_count": 28,
     "metadata": {},
     "output_type": "execute_result"
    }
   ],
   "source": [
    "mentalcare_df[\"MHTHND_A\"].value_counts()"
   ]
  },
  {
   "cell_type": "code",
   "execution_count": 30,
   "metadata": {},
   "outputs": [],
   "source": [
    "mentalcare_df.to_csv(r'resources/mentalcare_survey_df.csv', sep=',', index=False)"
   ]
  }
 ],
 "metadata": {
  "interpreter": {
   "hash": "bb21933e10362d5b7edcbeb914b36dc85fec45a8bf88e6b1c5733bc63fe3981c"
  },
  "kernelspec": {
   "display_name": "Python 3.8.10 64-bit ('PyData': conda)",
   "name": "python3"
  },
  "language_info": {
   "codemirror_mode": {
    "name": "ipython",
    "version": 3
   },
   "file_extension": ".py",
   "mimetype": "text/x-python",
   "name": "python",
   "nbconvert_exporter": "python",
   "pygments_lexer": "ipython3",
   "version": "3.8.10"
  },
  "orig_nbformat": 4
 },
 "nbformat": 4,
 "nbformat_minor": 2
}
