{
 "cells": [
  {
   "cell_type": "code",
   "execution_count": 146,
   "metadata": {},
   "outputs": [],
   "source": [
    "import pandas as pd\n",
    "from sqlalchemy import create_engine\n",
    "import psycopg2\n",
    "from config import db_password\n",
    "import os\n",
    "from os import listdir\n",
    "from os.path import isfile, join\n",
    "from pathlib import Path\n"
   ]
  },
  {
   "cell_type": "code",
   "execution_count": 147,
   "metadata": {},
   "outputs": [],
   "source": [
    "# Create list of csv file names\n",
    "file_path = r'C:\\Users\\noaht\\Desktop\\Git\\project-vu\\resources'\n",
    "onlyfiles = [f for f in listdir(file_path) if isfile(join(file_path, f))]\n"
   ]
  },
  {
   "cell_type": "code",
   "execution_count": 148,
   "metadata": {},
   "outputs": [],
   "source": [
    "# Remove pdf's from file list\n",
    "onlyfiles.remove('2019_data.pdf')\n",
    "onlyfiles.remove('2020_data.pdf')\n",
    "onlyfiles.remove('2021_data.pdf') \n"
   ]
  },
  {
   "cell_type": "code",
   "execution_count": 149,
   "metadata": {},
   "outputs": [],
   "source": [
    "# Remove old data csv from file list\n",
    "onlyfiles.remove('Indicators_of_Anxiety_or_Depression_Based_on_Reported_Frequency_of_Symptoms_During_Last_7_Days (1).csv')"
   ]
  },
  {
   "cell_type": "code",
   "execution_count": 150,
   "metadata": {},
   "outputs": [],
   "source": [
    "# Create empty dictionary to store dataframes\n",
    "df_dict = {}"
   ]
  },
  {
   "cell_type": "code",
   "execution_count": 151,
   "metadata": {},
   "outputs": [],
   "source": [
    "for file_name in onlyfiles:  # loop over files\n",
    "\n",
    "   # read csv into a dataframe and add it to dict with file_name as it key\n",
    "   df_dict[file_name] = pd.read_csv(fr'C:\\Users\\noaht\\Desktop\\Git\\project-vu\\resources.\\\\' + file_name)\n"
   ]
  },
  {
   "cell_type": "code",
   "execution_count": 152,
   "metadata": {},
   "outputs": [],
   "source": [
    "# Create a function that converts onlyfiles list into a tuple to make it immutable\n",
    "def convert(list):\n",
    "    return tuple(list)"
   ]
  },
  {
   "cell_type": "code",
   "execution_count": 153,
   "metadata": {},
   "outputs": [],
   "source": [
    "# Drop csv from all file names for and put into a list\n",
    "file_no_csv = [t.replace(\".csv\", \"\") for t in onlyfiles]"
   ]
  },
  {
   "cell_type": "code",
   "execution_count": 154,
   "metadata": {},
   "outputs": [
    {
     "data": {
      "text/plain": [
       "('adult_access2019',\n",
       " 'adult_access2020',\n",
       " 'adult_access_clean2021',\n",
       " 'adult_suicide_clean2019',\n",
       " 'adult_suicide_clean2020',\n",
       " 'adult_suicide_clean2021',\n",
       " 'adult_uninsured2019',\n",
       " 'adult_uninsured2020',\n",
       " 'adult_uninsured_clean2021',\n",
       " 'adult_unmet_needs_clean_2019',\n",
       " 'adult_unmet_needs_clean_2020',\n",
       " 'adult_unmet_need_clean2021',\n",
       " 'ami_csv2019',\n",
       " 'ami_csv2020',\n",
       " 'ami_csv2021',\n",
       " 'children_no_mh_clean2020',\n",
       " 'mh_workforce_clean2020',\n",
       " 'mh_workforce_clean2021',\n",
       " 'no_doc_adult2019_clean',\n",
       " 'no_doc_adult2020_clean',\n",
       " 'no_doc_adult2021_clean',\n",
       " 'us_mobility_report',\n",
       " 'youth_ami_clean2021',\n",
       " 'youth_ami_csv_clean_2019',\n",
       " 'youth_ami_csv_clean_2020',\n",
       " 'youth_mde_clean2019',\n",
       " 'youth_mde_clean2020',\n",
       " 'youth_mde_clean2021',\n",
       " 'youth_no_mh_service2019',\n",
       " 'youth_no_mh_service2020',\n",
       " 'youth_no_mh_service2021',\n",
       " 'youth_some_mh_service_clean2019',\n",
       " 'youth_some_mh_service_clean2020',\n",
       " 'youth_some_mh_service_clean2021',\n",
       " 'youth_sub_dis2019_clean')"
      ]
     },
     "execution_count": 154,
     "metadata": {},
     "output_type": "execute_result"
    }
   ],
   "source": [
    "convert(file_no_csv)"
   ]
  },
  {
   "cell_type": "code",
   "execution_count": 155,
   "metadata": {},
   "outputs": [],
   "source": [
    "# Setup postgres variables\n",
    "pg_user = \"postgres\"\n",
    "pg_pwd = db_password\n",
    "pg_port = \"5432\"\n",
    "host = 'project-vu-database-piecharts.c7rvpt2rehpr.us-east-2.rds.amazonaws.com'"
   ]
  },
  {
   "cell_type": "code",
   "execution_count": 156,
   "metadata": {},
   "outputs": [],
   "source": [
    "# Create connection string\n",
    "db_string = \"postgresql://{username}:{password}@{host}:{port}/project_db\".format(username=pg_user, password=pg_pwd, host = host, port=pg_port)\n"
   ]
  },
  {
   "cell_type": "code",
   "execution_count": 157,
   "metadata": {},
   "outputs": [],
   "source": [
    "# Connect to the database engine\n",
    "engine = create_engine(db_string)\n"
   ]
  },
  {
   "cell_type": "code",
   "execution_count": 158,
   "metadata": {},
   "outputs": [],
   "source": [
    "# Load each data frame into their own pgsql table\n",
    "# TODO: Find way to set table names as csv file name without csv extension. Potentially add another function/for loop?\n",
    "for df, title in zip(df_dict.values(), file_no_csv):\n",
    "    df.to_sql(\n",
    "        name = title,\n",
    "        if_exists= 'replace',\n",
    "        con=engine,\n",
    "        index=False)"
   ]
  }
 ],
 "metadata": {
  "interpreter": {
   "hash": "7829a8a9740bf35ce0d99eaef6f9b78ba8db1856c4a7cf99972e3bb293bfaf99"
  },
  "kernelspec": {
   "display_name": "Python 3.9.5 64-bit ('PyData': conda)",
   "name": "python3"
  },
  "language_info": {
   "codemirror_mode": {
    "name": "ipython",
    "version": 3
   },
   "file_extension": ".py",
   "mimetype": "text/x-python",
   "name": "python",
   "nbconvert_exporter": "python",
   "pygments_lexer": "ipython3",
   "version": "3.9.5"
  },
  "orig_nbformat": 4
 },
 "nbformat": 4,
 "nbformat_minor": 2
}
