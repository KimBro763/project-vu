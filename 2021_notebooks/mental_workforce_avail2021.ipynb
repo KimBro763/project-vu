{
 "cells": [
  {
   "cell_type": "code",
   "execution_count": 19,
   "metadata": {},
   "outputs": [],
   "source": [
    "import pandas as pd\n",
    "# To install, pip install tabula-py in your env\n",
    "import tabula"
   ]
  },
  {
   "cell_type": "code",
   "execution_count": 20,
   "metadata": {},
   "outputs": [],
   "source": [
    "tabula.convert_into(r\"..\\resources\\2021_data.pdf\", r\"..\\uncleaned_csv\\mh_workforce2020.csv\", output_format=\"csv\", pages='32', stream = True)"
   ]
  },
  {
   "cell_type": "code",
   "execution_count": 21,
   "metadata": {},
   "outputs": [],
   "source": [
    "# Initial DF cleaning\n",
    "workforce_df = pd.read_csv(r\"..\\uncleaned_csv\\mh_workforce2020.csv\")\n",
    "workforce_df = workforce_df.drop(columns='Unnamed: 0')\n",
    "workforce_df = workforce_df.dropna(how='all')\n"
   ]
  },
  {
   "cell_type": "code",
   "execution_count": 22,
   "metadata": {},
   "outputs": [
    {
     "name": "stderr",
     "output_type": "stream",
     "text": [
      "C:\\Users\\noaht\\AppData\\Local\\Temp/ipykernel_12352/1996265142.py:2: FutureWarning: Columnar iteration over characters will be deprecated in future releases.\n",
      "  work_force = workforce_df['healthcare_workers_per_person_2021'], workforce_df['ignore'] = workforce_df['#'].str.split(':', 1).str\n"
     ]
    }
   ],
   "source": [
    "# Split # column to create a column with just values of workers\n",
    "work_force = workforce_df['healthcare_workers_per_person_2021'], workforce_df['ignore'] = workforce_df['#'].str.split(':', 1).str"
   ]
  },
  {
   "cell_type": "code",
   "execution_count": 23,
   "metadata": {},
   "outputs": [],
   "source": [
    "# Set dtypes to int to do transform\n",
    "workforce_df['healthcare_workers_per_person_2021'] = workforce_df['healthcare_workers_per_person_2021'].astype(int)\n",
    "workforce_df['ignore'] = workforce_df['ignore'].astype(int)"
   ]
  },
  {
   "cell_type": "code",
   "execution_count": 24,
   "metadata": {},
   "outputs": [],
   "source": [
    "# Create worker ratio column\n",
    "workforce_df['worker_ratio_2021'] = workforce_df['ignore'] / workforce_df['healthcare_workers_per_person_2021']"
   ]
  },
  {
   "cell_type": "code",
   "execution_count": 25,
   "metadata": {},
   "outputs": [
    {
     "data": {
      "text/html": [
       "<div>\n",
       "<style scoped>\n",
       "    .dataframe tbody tr th:only-of-type {\n",
       "        vertical-align: middle;\n",
       "    }\n",
       "\n",
       "    .dataframe tbody tr th {\n",
       "        vertical-align: top;\n",
       "    }\n",
       "\n",
       "    .dataframe thead th {\n",
       "        text-align: right;\n",
       "    }\n",
       "</style>\n",
       "<table border=\"1\" class=\"dataframe\">\n",
       "  <thead>\n",
       "    <tr style=\"text-align: right;\">\n",
       "      <th></th>\n",
       "      <th>Rank</th>\n",
       "      <th>State</th>\n",
       "      <th>#</th>\n",
       "      <th>healthcare_workers_per_person_2021</th>\n",
       "      <th>ignore</th>\n",
       "      <th>worker_ratio_2021</th>\n",
       "    </tr>\n",
       "  </thead>\n",
       "  <tbody>\n",
       "    <tr>\n",
       "      <th>0</th>\n",
       "      <td>1.0</td>\n",
       "      <td>Massachusetts</td>\n",
       "      <td>160:1</td>\n",
       "      <td>160</td>\n",
       "      <td>1</td>\n",
       "      <td>0.006250</td>\n",
       "    </tr>\n",
       "    <tr>\n",
       "      <th>1</th>\n",
       "      <td>2.0</td>\n",
       "      <td>Oregon</td>\n",
       "      <td>190:1</td>\n",
       "      <td>190</td>\n",
       "      <td>1</td>\n",
       "      <td>0.005263</td>\n",
       "    </tr>\n",
       "    <tr>\n",
       "      <th>2</th>\n",
       "      <td>3.0</td>\n",
       "      <td>District of Columbia</td>\n",
       "      <td>210:1</td>\n",
       "      <td>210</td>\n",
       "      <td>1</td>\n",
       "      <td>0.004762</td>\n",
       "    </tr>\n",
       "    <tr>\n",
       "      <th>3</th>\n",
       "      <td>4.0</td>\n",
       "      <td>Maine</td>\n",
       "      <td>210:1</td>\n",
       "      <td>210</td>\n",
       "      <td>1</td>\n",
       "      <td>0.004762</td>\n",
       "    </tr>\n",
       "    <tr>\n",
       "      <th>4</th>\n",
       "      <td>5.0</td>\n",
       "      <td>Vermont</td>\n",
       "      <td>220:1</td>\n",
       "      <td>220</td>\n",
       "      <td>1</td>\n",
       "      <td>0.004545</td>\n",
       "    </tr>\n",
       "  </tbody>\n",
       "</table>\n",
       "</div>"
      ],
      "text/plain": [
       "   Rank                 State      #  healthcare_workers_per_person_2021  \\\n",
       "0   1.0         Massachusetts  160:1                                 160   \n",
       "1   2.0                Oregon  190:1                                 190   \n",
       "2   3.0  District of Columbia  210:1                                 210   \n",
       "3   4.0                 Maine  210:1                                 210   \n",
       "4   5.0               Vermont  220:1                                 220   \n",
       "\n",
       "   ignore  worker_ratio_2021  \n",
       "0       1           0.006250  \n",
       "1       1           0.005263  \n",
       "2       1           0.004762  \n",
       "3       1           0.004762  \n",
       "4       1           0.004545  "
      ]
     },
     "execution_count": 25,
     "metadata": {},
     "output_type": "execute_result"
    }
   ],
   "source": [
    "workforce_df.head()"
   ]
  },
  {
   "cell_type": "code",
   "execution_count": 26,
   "metadata": {},
   "outputs": [],
   "source": [
    "# drop redundant columns\n",
    "workforce_df = workforce_df.drop(columns='ignore')\n",
    "workforce_df = workforce_df.drop(columns='#')"
   ]
  },
  {
   "cell_type": "code",
   "execution_count": 27,
   "metadata": {},
   "outputs": [],
   "source": [
    "workforce_df.to_csv(r'..\\resources\\mh_workforce_clean2021.csv', sep=',', index=False)"
   ]
  }
 ],
 "metadata": {
  "interpreter": {
   "hash": "7829a8a9740bf35ce0d99eaef6f9b78ba8db1856c4a7cf99972e3bb293bfaf99"
  },
  "kernelspec": {
   "display_name": "Python 3.9.5 64-bit ('PyData': conda)",
   "name": "python3"
  },
  "language_info": {
   "codemirror_mode": {
    "name": "ipython",
    "version": 3
   },
   "file_extension": ".py",
   "mimetype": "text/x-python",
   "name": "python",
   "nbconvert_exporter": "python",
   "pygments_lexer": "ipython3",
   "version": "3.9.5"
  },
  "orig_nbformat": 4
 },
 "nbformat": 4,
 "nbformat_minor": 2
}
