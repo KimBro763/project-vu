{
 "cells": [
  {
   "cell_type": "code",
   "execution_count": 16,
   "metadata": {},
   "outputs": [],
   "source": [
    "import pandas as pd\n",
    "# To install, pip install tabula-py in your env\n",
    "import tabula"
   ]
  },
  {
   "cell_type": "code",
   "execution_count": 17,
   "metadata": {},
   "outputs": [],
   "source": [
    "tabula.convert_into(r\"..\\resources\\2021_data.pdf\", r\"..\\uncleaned_csv\\adult_access_2021.csv\", output_format=\"csv\", pages='24', stream = True)"
   ]
  },
  {
   "cell_type": "code",
   "execution_count": 18,
   "metadata": {},
   "outputs": [],
   "source": [
    "# Read in csv\n",
    "adult_access_df = pd.read_csv(r\"..\\uncleaned_csv\\adult_access_2021.csv\")\n",
    "\n",
    "adult_access_df = adult_access_df.dropna(how='all')\n"
   ]
  },
  {
   "cell_type": "code",
   "execution_count": 20,
   "metadata": {},
   "outputs": [],
   "source": [
    "# Extract second half of ami_df to make second df to be joined back in\n",
    "adult_access_df_2 = adult_access_df[[\"Rank\", \"State\", \"%.1\", \"#.1\"]]\n",
    "adult_access_df_2 = adult_access_df_2.rename(columns={\"%.1\" : \"%\", \"#.1\": \"#\"})\n"
   ]
  },
  {
   "cell_type": "code",
   "execution_count": 21,
   "metadata": {},
   "outputs": [],
   "source": [
    "# drop seperated columns\n",
    "adult_access_df = adult_access_df.drop(columns={\"Rank\", \"State\", \"%.1\", \"#.1\"})"
   ]
  },
  {
   "cell_type": "code",
   "execution_count": 22,
   "metadata": {},
   "outputs": [
    {
     "name": "stderr",
     "output_type": "stream",
     "text": [
      "C:\\Users\\noaht\\AppData\\Local\\Temp/ipykernel_13140/1540202657.py:2: FutureWarning: Columnar iteration over characters will be deprecated in future releases.\n",
      "  adult_access_df['Rank'], adult_access_df['State'] = adult_access_df['Rank State'].str.split(' ', 1).str\n"
     ]
    }
   ],
   "source": [
    "# Splitup problematic data\n",
    "adult_access_df['Rank'], adult_access_df['State'] = adult_access_df['Rank State'].str.split(' ', 1).str\n",
    "\n",
    "adult_access_df = adult_access_df.drop(columns='Rank State')"
   ]
  },
  {
   "cell_type": "code",
   "execution_count": 23,
   "metadata": {},
   "outputs": [],
   "source": [
    "# Rename and reappend cleaned half of dataframe.\n",
    "adult_access_df = adult_access_df[['Rank', 'State', '%', '#']]\n",
    "adult_access_df = adult_access_df.append(adult_access_df_2)"
   ]
  },
  {
   "cell_type": "code",
   "execution_count": 24,
   "metadata": {},
   "outputs": [],
   "source": [
    "# Reset index to make cleaning possible\n",
    "adult_access_df = adult_access_df.reset_index(drop=True)"
   ]
  },
  {
   "cell_type": "code",
   "execution_count": 25,
   "metadata": {},
   "outputs": [],
   "source": [
    "# Drop bugged rows\n",
    "adult_access_df = adult_access_df.drop(adult_access_df.index[[26, 27, 28]])\n"
   ]
  },
  {
   "cell_type": "code",
   "execution_count": 26,
   "metadata": {},
   "outputs": [],
   "source": [
    "adult_access_df = adult_access_df.reset_index(drop=True)"
   ]
  },
  {
   "cell_type": "code",
   "execution_count": 29,
   "metadata": {},
   "outputs": [],
   "source": [
    "adult_access_df =adult_access_df.dropna(how='all')"
   ]
  },
  {
   "cell_type": "code",
   "execution_count": 31,
   "metadata": {},
   "outputs": [],
   "source": [
    "# Add suffix \n",
    "adult_access_df = adult_access_df.add_suffix('_adult_access_2021')"
   ]
  },
  {
   "cell_type": "code",
   "execution_count": 32,
   "metadata": {},
   "outputs": [],
   "source": [
    "adult_access_df = adult_access_df.rename(columns={'State_adult_access_2021' : 'State'})"
   ]
  },
  {
   "cell_type": "code",
   "execution_count": 34,
   "metadata": {},
   "outputs": [],
   "source": [
    "adult_access_df.to_csv(r'..\\resources\\adult_access_clean2021.csv')"
   ]
  }
 ],
 "metadata": {
  "interpreter": {
   "hash": "7829a8a9740bf35ce0d99eaef6f9b78ba8db1856c4a7cf99972e3bb293bfaf99"
  },
  "kernelspec": {
   "display_name": "Python 3.9.5 64-bit ('PyData': conda)",
   "name": "python3"
  },
  "language_info": {
   "codemirror_mode": {
    "name": "ipython",
    "version": 3
   },
   "file_extension": ".py",
   "mimetype": "text/x-python",
   "name": "python",
   "nbconvert_exporter": "python",
   "pygments_lexer": "ipython3",
   "version": "3.9.5"
  },
  "orig_nbformat": 4
 },
 "nbformat": 4,
 "nbformat_minor": 2
}
