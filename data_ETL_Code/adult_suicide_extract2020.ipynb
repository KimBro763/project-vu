{
 "cells": [
  {
   "cell_type": "code",
   "execution_count": 1,
   "metadata": {},
   "outputs": [],
   "source": [
    "import pandas as pd\n",
    "# To install, pip install tabula-py in your env\n",
    "import tabula"
   ]
  },
  {
   "cell_type": "code",
   "execution_count": 2,
   "metadata": {},
   "outputs": [],
   "source": [
    "tabula.convert_into(r\"resources\\2020_data.pdf\", r\"uncleaned_csv\\adult_suicide2020.csv\", output_format=\"csv\", pages='30', stream = True)"
   ]
  },
  {
   "cell_type": "code",
   "execution_count": 3,
   "metadata": {},
   "outputs": [],
   "source": [
    "# Read in csv\n",
    "adult_suicide_df = pd.read_csv(r\"uncleaned_csv\\adult_suicide2020.csv\")"
   ]
  },
  {
   "cell_type": "code",
   "execution_count": 4,
   "metadata": {},
   "outputs": [],
   "source": [
    "# Extract second half of ami_df to make second df to be joined back in\n",
    "adult_suicide_2 = adult_suicide_df[[\"Rank.1\", \"State.1\", \"%.1\", \"#.1\"]]\n",
    "adult_suicide_2 = adult_suicide_2.rename(columns={'Rank.1' : \"Rank\", \"State.1\" : \"State\", \"%.1\" : \"%\", \"#.1\": \"#\"})"
   ]
  },
  {
   "cell_type": "code",
   "execution_count": 5,
   "metadata": {},
   "outputs": [],
   "source": [
    "# Drop columns that have been extracted\n",
    "adult_suicide_df = adult_suicide_df.drop(columns={\"Rank.1\", \"State.1\", \"%.1\", \"#.1\"})"
   ]
  },
  {
   "cell_type": "code",
   "execution_count": 6,
   "metadata": {},
   "outputs": [],
   "source": [
    "adult_suicide_df = adult_suicide_df.drop(adult_suicide_df.index[[29,30,31,32,33]])"
   ]
  },
  {
   "cell_type": "code",
   "execution_count": 7,
   "metadata": {},
   "outputs": [],
   "source": [
    "# Merge both dfs together, making final df\n",
    "adult_suicide_df = adult_suicide_df.append(adult_suicide_2)"
   ]
  },
  {
   "cell_type": "code",
   "execution_count": 8,
   "metadata": {},
   "outputs": [],
   "source": [
    "adult_suicide_df = adult_suicide_df.dropna(how='all')"
   ]
  },
  {
   "cell_type": "code",
   "execution_count": 9,
   "metadata": {},
   "outputs": [],
   "source": [
    "adult_suicide_df = adult_suicide_df.reset_index(drop=\"True\")"
   ]
  },
  {
   "cell_type": "code",
   "execution_count": 10,
   "metadata": {},
   "outputs": [],
   "source": [
    "# change dtype of # column\n",
    "adult_suicide_df['#'] = adult_suicide_df['#'].str.replace(',', '').astype(float)"
   ]
  },
  {
   "cell_type": "code",
   "execution_count": 11,
   "metadata": {},
   "outputs": [],
   "source": [
    "adult_suicide_df = adult_suicide_df.add_suffix('_adult_suicide_2020')"
   ]
  },
  {
   "cell_type": "code",
   "execution_count": 12,
   "metadata": {},
   "outputs": [],
   "source": [
    "adult_suicide_df = adult_suicide_df.rename(columns={'State_adult_suicide_2020' : 'State'})"
   ]
  },
  {
   "cell_type": "code",
   "execution_count": 13,
   "metadata": {},
   "outputs": [],
   "source": [
    "adult_suicide_df.to_csv(r'resources\\adult_suicide_clean2020.csv', sep=',', index=False)"
   ]
  }
 ],
 "metadata": {
  "interpreter": {
   "hash": "7829a8a9740bf35ce0d99eaef6f9b78ba8db1856c4a7cf99972e3bb293bfaf99"
  },
  "kernelspec": {
   "display_name": "Python 3.9.5 64-bit ('PyData': conda)",
   "name": "python3"
  },
  "language_info": {
   "codemirror_mode": {
    "name": "ipython",
    "version": 3
   },
   "file_extension": ".py",
   "mimetype": "text/x-python",
   "name": "python",
   "nbconvert_exporter": "python",
   "pygments_lexer": "ipython3",
   "version": "3.9.5"
  },
  "orig_nbformat": 4
 },
 "nbformat": 4,
 "nbformat_minor": 2
}
