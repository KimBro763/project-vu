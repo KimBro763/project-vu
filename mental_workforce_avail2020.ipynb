{
 "cells": [
  {
   "cell_type": "code",
   "execution_count": 21,
   "metadata": {},
   "outputs": [],
   "source": [
    "import pandas as pd\n",
    "# To install, pip install tabula-py in your env\n",
    "import tabula"
   ]
  },
  {
   "cell_type": "code",
   "execution_count": 22,
   "metadata": {},
   "outputs": [],
   "source": [
    "tabula.convert_into(r\"resources\\2020_data.pdf\", \"uncleaned_csv\\mh_workforce2020.csv\", output_format=\"csv\", pages='42', stream = True)"
   ]
  },
  {
   "cell_type": "code",
   "execution_count": 23,
   "metadata": {},
   "outputs": [],
   "source": [
    "# Initial DF cleaning\n",
    "workforce_df = pd.read_csv(\"uncleaned_csv\\mh_workforce2020.csv\")\n",
    "workforce_df = workforce_df.drop(columns='Unnamed: 0')\n",
    "workforce_df = workforce_df.dropna(how='all')\n"
   ]
  },
  {
   "cell_type": "code",
   "execution_count": 24,
   "metadata": {},
   "outputs": [
    {
     "name": "stderr",
     "output_type": "stream",
     "text": [
      "C:\\Users\\noaht\\AppData\\Local\\Temp/ipykernel_21244/720389142.py:2: FutureWarning: Columnar iteration over characters will be deprecated in future releases.\n",
      "  work_force = workforce_df['healthcare_workers_per_person_2020'], workforce_df['ignore'] = workforce_df['#'].str.split(':', 1).str\n"
     ]
    }
   ],
   "source": [
    "# Split # column to create a column with just values of workers\n",
    "work_force = workforce_df['healthcare_workers_per_person_2020'], workforce_df['ignore'] = workforce_df['#'].str.split(':', 1).str"
   ]
  },
  {
   "cell_type": "code",
   "execution_count": 25,
   "metadata": {},
   "outputs": [],
   "source": [
    "# Set dtypes to int to do transform\n",
    "workforce_df['healthcare_workers_per_person_2020'] = workforce_df['healthcare_workers_per_person_2020'].astype(int)\n",
    "workforce_df['ignore'] = workforce_df['ignore'].astype(int)"
   ]
  },
  {
   "cell_type": "code",
   "execution_count": 26,
   "metadata": {},
   "outputs": [],
   "source": [
    "# Create worker ratio column\n",
    "workforce_df['worker_ratio_2020'] = workforce_df['ignore'] / workforce_df['healthcare_workers_per_person_2020']"
   ]
  },
  {
   "cell_type": "code",
   "execution_count": 27,
   "metadata": {},
   "outputs": [
    {
     "data": {
      "text/html": [
       "<div>\n",
       "<style scoped>\n",
       "    .dataframe tbody tr th:only-of-type {\n",
       "        vertical-align: middle;\n",
       "    }\n",
       "\n",
       "    .dataframe tbody tr th {\n",
       "        vertical-align: top;\n",
       "    }\n",
       "\n",
       "    .dataframe thead th {\n",
       "        text-align: right;\n",
       "    }\n",
       "</style>\n",
       "<table border=\"1\" class=\"dataframe\">\n",
       "  <thead>\n",
       "    <tr style=\"text-align: right;\">\n",
       "      <th></th>\n",
       "      <th>Rank</th>\n",
       "      <th>State</th>\n",
       "      <th>#</th>\n",
       "      <th>healthcare_workers_per_person_2020</th>\n",
       "      <th>ignore</th>\n",
       "      <th>worker_ratio_2020</th>\n",
       "    </tr>\n",
       "  </thead>\n",
       "  <tbody>\n",
       "    <tr>\n",
       "      <th>0</th>\n",
       "      <td>1.0</td>\n",
       "      <td>Massachusetts</td>\n",
       "      <td>180:1</td>\n",
       "      <td>180</td>\n",
       "      <td>1</td>\n",
       "      <td>0.005556</td>\n",
       "    </tr>\n",
       "    <tr>\n",
       "      <th>1</th>\n",
       "      <td>2.0</td>\n",
       "      <td>Oregon</td>\n",
       "      <td>210:1</td>\n",
       "      <td>210</td>\n",
       "      <td>1</td>\n",
       "      <td>0.004762</td>\n",
       "    </tr>\n",
       "    <tr>\n",
       "      <th>2</th>\n",
       "      <td>3.0</td>\n",
       "      <td>District of Columbia</td>\n",
       "      <td>220:1</td>\n",
       "      <td>220</td>\n",
       "      <td>1</td>\n",
       "      <td>0.004545</td>\n",
       "    </tr>\n",
       "    <tr>\n",
       "      <th>3</th>\n",
       "      <td>4.0</td>\n",
       "      <td>Maine</td>\n",
       "      <td>220:1</td>\n",
       "      <td>220</td>\n",
       "      <td>1</td>\n",
       "      <td>0.004545</td>\n",
       "    </tr>\n",
       "    <tr>\n",
       "      <th>4</th>\n",
       "      <td>5.0</td>\n",
       "      <td>Vermont</td>\n",
       "      <td>230:1</td>\n",
       "      <td>230</td>\n",
       "      <td>1</td>\n",
       "      <td>0.004348</td>\n",
       "    </tr>\n",
       "  </tbody>\n",
       "</table>\n",
       "</div>"
      ],
      "text/plain": [
       "   Rank                 State      #  healthcare_workers_per_person_2020  \\\n",
       "0   1.0         Massachusetts  180:1                                 180   \n",
       "1   2.0                Oregon  210:1                                 210   \n",
       "2   3.0  District of Columbia  220:1                                 220   \n",
       "3   4.0                 Maine  220:1                                 220   \n",
       "4   5.0               Vermont  230:1                                 230   \n",
       "\n",
       "   ignore  worker_ratio_2020  \n",
       "0       1           0.005556  \n",
       "1       1           0.004762  \n",
       "2       1           0.004545  \n",
       "3       1           0.004545  \n",
       "4       1           0.004348  "
      ]
     },
     "execution_count": 27,
     "metadata": {},
     "output_type": "execute_result"
    }
   ],
   "source": [
    "workforce_df.head()"
   ]
  },
  {
   "cell_type": "code",
   "execution_count": 28,
   "metadata": {},
   "outputs": [],
   "source": [
    "# drop redundant columns\n",
    "workforce_df = workforce_df.drop(columns='ignore')\n",
    "workforce_df = workforce_df.drop(columns='#')"
   ]
  },
  {
   "cell_type": "code",
   "execution_count": 30,
   "metadata": {},
   "outputs": [],
   "source": [
    "workforce_df.to_csv(r'resources\\mh_workforce_clean2020.csv', sep=',', index=False)"
   ]
  }
 ],
 "metadata": {
  "interpreter": {
   "hash": "7829a8a9740bf35ce0d99eaef6f9b78ba8db1856c4a7cf99972e3bb293bfaf99"
  },
  "kernelspec": {
   "display_name": "Python 3.9.5 64-bit ('PyData': conda)",
   "name": "python3"
  },
  "language_info": {
   "codemirror_mode": {
    "name": "ipython",
    "version": 3
   },
   "file_extension": ".py",
   "mimetype": "text/x-python",
   "name": "python",
   "nbconvert_exporter": "python",
   "pygments_lexer": "ipython3",
   "version": "3.9.5"
  },
  "orig_nbformat": 4
 },
 "nbformat": 4,
 "nbformat_minor": 2
}
