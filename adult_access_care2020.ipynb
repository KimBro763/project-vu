{
 "cells": [
  {
   "cell_type": "code",
   "execution_count": 103,
   "metadata": {},
   "outputs": [],
   "source": [
    "import pandas as pd\n",
    "# To install, pip install tabula-py in your env\n",
    "import tabula"
   ]
  },
  {
   "cell_type": "code",
   "execution_count": 104,
   "metadata": {},
   "outputs": [],
   "source": [
    "tabula.convert_into(r\"resources\\2020_data.pdf\", r\"uncleaned_csv\\adult_access2020.csv\", output_format=\"csv\", pages='34', stream = True)"
   ]
  },
  {
   "cell_type": "code",
   "execution_count": 105,
   "metadata": {},
   "outputs": [],
   "source": [
    "# Read in csv\n",
    "adult_access_df = pd.read_csv(r\"uncleaned_csv\\adult_access2020.csv\")\n",
    "adult_access_df\n",
    "adult_access_df = adult_access_df.dropna(how='all')"
   ]
  },
  {
   "cell_type": "code",
   "execution_count": 106,
   "metadata": {},
   "outputs": [],
   "source": [
    "# Extract second half of ami_df to make second df to be joined back in\n",
    "adult_access_df_2 = adult_access_df[[\"Rank\", \"State\", \"%.1\", \"#.1\"]]\n",
    "adult_access_df_2 = adult_access_df_2.rename(columns={\"%.1\" : \"%\", \"#.1\": \"#\"})\n"
   ]
  },
  {
   "cell_type": "code",
   "execution_count": 107,
   "metadata": {},
   "outputs": [],
   "source": [
    "# drop seperated columns\n",
    "adult_access_df = adult_access_df.drop(columns={\"Rank\", \"State\", \"%.1\", \"#.1\"})"
   ]
  },
  {
   "cell_type": "code",
   "execution_count": 108,
   "metadata": {},
   "outputs": [
    {
     "name": "stderr",
     "output_type": "stream",
     "text": [
      "C:\\Users\\noaht\\AppData\\Local\\Temp/ipykernel_4620/1540202657.py:2: FutureWarning: Columnar iteration over characters will be deprecated in future releases.\n",
      "  adult_access_df['Rank'], adult_access_df['State'] = adult_access_df['Rank State'].str.split(' ', 1).str\n"
     ]
    }
   ],
   "source": [
    "# Splitup problematic data\n",
    "adult_access_df['Rank'], adult_access_df['State'] = adult_access_df['Rank State'].str.split(' ', 1).str\n",
    "\n",
    "adult_access_df = adult_access_df.drop(columns='Rank State')"
   ]
  },
  {
   "cell_type": "code",
   "execution_count": 109,
   "metadata": {},
   "outputs": [],
   "source": [
    "# Rename and reappend cleaned half of dataframe.\n",
    "adult_access_df = adult_access_df[['Rank', 'State', '%', '#']]\n",
    "adult_access_df = adult_access_df.append(adult_access_df_2)"
   ]
  },
  {
   "cell_type": "code",
   "execution_count": 110,
   "metadata": {},
   "outputs": [],
   "source": [
    "# Reset index to make cleaning possible\n",
    "adult_access_df = adult_access_df.reset_index(drop=True)"
   ]
  },
  {
   "cell_type": "code",
   "execution_count": 111,
   "metadata": {},
   "outputs": [],
   "source": [
    "# Assign proper values\n",
    "adult_access_df.loc[15, \"Rank\"]=16\n",
    "adult_access_df.loc[15, \"State\"]='Nebraska'\n",
    "adult_access_df.loc[41, \"#\"]=829000"
   ]
  },
  {
   "cell_type": "code",
   "execution_count": 112,
   "metadata": {},
   "outputs": [],
   "source": [
    "# Add suffix \n",
    "adult_access_df = adult_access_df.add_suffix('_adult_care_access_2020')"
   ]
  },
  {
   "cell_type": "code",
   "execution_count": 113,
   "metadata": {},
   "outputs": [],
   "source": [
    "adult_access_df = adult_access_df.rename(columns={'State_adult_care_access_2020' : 'State'})"
   ]
  },
  {
   "cell_type": "code",
   "execution_count": 115,
   "metadata": {},
   "outputs": [],
   "source": [
    "adult_access_df.to_csv(r'resources\\adult_access2020.csv')"
   ]
  }
 ],
 "metadata": {
  "interpreter": {
   "hash": "7829a8a9740bf35ce0d99eaef6f9b78ba8db1856c4a7cf99972e3bb293bfaf99"
  },
  "kernelspec": {
   "display_name": "Python 3.9.5 64-bit ('PyData': conda)",
   "name": "python3"
  },
  "language_info": {
   "codemirror_mode": {
    "name": "ipython",
    "version": 3
   },
   "file_extension": ".py",
   "mimetype": "text/x-python",
   "name": "python",
   "nbconvert_exporter": "python",
   "pygments_lexer": "ipython3",
   "version": "3.9.5"
  },
  "orig_nbformat": 4
 },
 "nbformat": 4,
 "nbformat_minor": 2
}
