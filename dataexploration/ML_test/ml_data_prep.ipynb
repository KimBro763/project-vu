{
 "cells": [
  {
   "cell_type": "code",
   "execution_count": 2,
   "metadata": {},
   "outputs": [],
   "source": [
    "import warnings\n",
    "warnings.filterwarnings('ignore')\n",
    "import numpy as np\n",
    "import pandas as pd\n",
    "from pathlib import Path\n",
    "from collections import Counter"
   ]
  },
  {
   "cell_type": "code",
   "execution_count": 3,
   "metadata": {},
   "outputs": [],
   "source": [
    "survey_file=\"/Users/pazilatn/Desktop/github/project-vu/resources/mentalcare_survey_df.csv\"\n",
    "mh_wf_file=\"/Users/pazilatn/Desktop/github/project-vu/resources/mh_workforce_clean2020.csv\"\n",
    "survey_df=pd.read_csv(survey_file)\n",
    "mh_wf=pd.read_csv(mh_wf_file)\n",
    "\n",
    "region_file=\"/Users/pazilatn/Desktop/github/project-vu/resources/state_region_connection.csv\"\n",
    "region_state=pd.read_csv(region_file)"
   ]
  },
  {
   "cell_type": "code",
<<<<<<< HEAD
   "execution_count": 4,
=======
   "execution_count": 84,
>>>>>>> main
   "metadata": {},
   "outputs": [
    {
     "data": {
      "text/html": [
       "<div>\n",
       "<style scoped>\n",
       "    .dataframe tbody tr th:only-of-type {\n",
       "        vertical-align: middle;\n",
       "    }\n",
       "\n",
       "    .dataframe tbody tr th {\n",
       "        vertical-align: top;\n",
       "    }\n",
       "\n",
       "    .dataframe thead th {\n",
       "        text-align: right;\n",
       "    }\n",
       "</style>\n",
       "<table border=\"1\" class=\"dataframe\">\n",
       "  <thead>\n",
       "    <tr style=\"text-align: right;\">\n",
       "      <th></th>\n",
       "      <th>FAMINCTC_A</th>\n",
       "      <th>RACEALLP_A</th>\n",
       "      <th>MAXEDUC_A</th>\n",
       "      <th>REGION</th>\n",
       "      <th>SEX_A</th>\n",
       "      <th>AGEP_A</th>\n",
       "      <th>MHTHND_A</th>\n",
<<<<<<< HEAD
=======
       "      <th>Region_wf</th>\n",
>>>>>>> main
       "    </tr>\n",
       "  </thead>\n",
       "  <tbody>\n",
       "    <tr>\n",
       "      <th>0</th>\n",
       "      <td>100000</td>\n",
       "      <td>1</td>\n",
       "      <td>8.0</td>\n",
       "      <td>3</td>\n",
       "      <td>1</td>\n",
       "      <td>85</td>\n",
       "      <td>2</td>\n",
<<<<<<< HEAD
=======
       "      <td>0.002029</td>\n",
>>>>>>> main
       "    </tr>\n",
       "    <tr>\n",
       "      <th>1</th>\n",
       "      <td>75000</td>\n",
       "      <td>1</td>\n",
       "      <td>5.0</td>\n",
       "      <td>3</td>\n",
       "      <td>1</td>\n",
       "      <td>39</td>\n",
       "      <td>2</td>\n",
<<<<<<< HEAD
=======
       "      <td>0.002029</td>\n",
>>>>>>> main
       "    </tr>\n",
       "    <tr>\n",
       "      <th>2</th>\n",
       "      <td>90000</td>\n",
       "      <td>2</td>\n",
       "      <td>4.0</td>\n",
       "      <td>3</td>\n",
       "      <td>1</td>\n",
       "      <td>42</td>\n",
       "      <td>2</td>\n",
<<<<<<< HEAD
=======
       "      <td>0.002029</td>\n",
>>>>>>> main
       "    </tr>\n",
       "    <tr>\n",
       "      <th>3</th>\n",
       "      <td>65000</td>\n",
       "      <td>1</td>\n",
       "      <td>8.0</td>\n",
       "      <td>3</td>\n",
       "      <td>1</td>\n",
       "      <td>32</td>\n",
       "      <td>2</td>\n",
<<<<<<< HEAD
=======
       "      <td>0.002029</td>\n",
>>>>>>> main
       "    </tr>\n",
       "    <tr>\n",
       "      <th>4</th>\n",
       "      <td>25762</td>\n",
       "      <td>1</td>\n",
       "      <td>4.0</td>\n",
       "      <td>3</td>\n",
       "      <td>2</td>\n",
       "      <td>85</td>\n",
       "      <td>2</td>\n",
<<<<<<< HEAD
=======
       "      <td>0.002029</td>\n",
>>>>>>> main
       "    </tr>\n",
       "  </tbody>\n",
       "</table>\n",
       "</div>"
      ],
      "text/plain": [
<<<<<<< HEAD
       "   FAMINCTC_A  RACEALLP_A  MAXEDUC_A  REGION  SEX_A  AGEP_A  MHTHND_A\n",
       "0      100000           1        8.0       3      1      85         2\n",
       "1       75000           1        5.0       3      1      39         2\n",
       "2       90000           2        4.0       3      1      42         2\n",
       "3       65000           1        8.0       3      1      32         2\n",
       "4       25762           1        4.0       3      2      85         2"
      ]
     },
     "execution_count": 4,
=======
       "   FAMINCTC_A  RACEALLP_A  MAXEDUC_A  REGION  SEX_A  AGEP_A  MHTHND_A  \\\n",
       "0      100000           1        8.0       3      1      85         2   \n",
       "1       75000           1        5.0       3      1      39         2   \n",
       "2       90000           2        4.0       3      1      42         2   \n",
       "3       65000           1        8.0       3      1      32         2   \n",
       "4       25762           1        4.0       3      2      85         2   \n",
       "\n",
       "   Region_wf  \n",
       "0   0.002029  \n",
       "1   0.002029  \n",
       "2   0.002029  \n",
       "3   0.002029  \n",
       "4   0.002029  "
      ]
     },
     "execution_count": 84,
>>>>>>> main
     "metadata": {},
     "output_type": "execute_result"
    }
   ],
   "source": [
    "survey_df.head()"
   ]
  },
  {
   "cell_type": "code",
   "execution_count": 5,
   "metadata": {},
   "outputs": [
    {
     "data": {
      "text/html": [
       "<div>\n",
       "<style scoped>\n",
       "    .dataframe tbody tr th:only-of-type {\n",
       "        vertical-align: middle;\n",
       "    }\n",
       "\n",
       "    .dataframe tbody tr th {\n",
       "        vertical-align: top;\n",
       "    }\n",
       "\n",
       "    .dataframe thead th {\n",
       "        text-align: right;\n",
       "    }\n",
       "</style>\n",
       "<table border=\"1\" class=\"dataframe\">\n",
       "  <thead>\n",
       "    <tr style=\"text-align: right;\">\n",
       "      <th></th>\n",
       "      <th>Rank</th>\n",
       "      <th>State</th>\n",
       "      <th>#</th>\n",
       "    </tr>\n",
       "  </thead>\n",
       "  <tbody>\n",
       "    <tr>\n",
       "      <th>0</th>\n",
       "      <td>1.0</td>\n",
       "      <td>Massachusetts</td>\n",
       "      <td>180:1</td>\n",
       "    </tr>\n",
       "    <tr>\n",
       "      <th>1</th>\n",
       "      <td>2.0</td>\n",
       "      <td>Oregon</td>\n",
       "      <td>210:1</td>\n",
       "    </tr>\n",
       "    <tr>\n",
       "      <th>2</th>\n",
       "      <td>3.0</td>\n",
       "      <td>District of Columbia</td>\n",
       "      <td>220:1</td>\n",
       "    </tr>\n",
       "    <tr>\n",
       "      <th>3</th>\n",
       "      <td>4.0</td>\n",
       "      <td>Maine</td>\n",
       "      <td>220:1</td>\n",
       "    </tr>\n",
       "    <tr>\n",
       "      <th>4</th>\n",
       "      <td>5.0</td>\n",
       "      <td>Vermont</td>\n",
       "      <td>230:1</td>\n",
       "    </tr>\n",
       "  </tbody>\n",
       "</table>\n",
       "</div>"
      ],
      "text/plain": [
       "   Rank                 State      #\n",
       "0   1.0         Massachusetts  180:1\n",
       "1   2.0                Oregon  210:1\n",
       "2   3.0  District of Columbia  220:1\n",
       "3   4.0                 Maine  220:1\n",
       "4   5.0               Vermont  230:1"
      ]
     },
     "execution_count": 5,
     "metadata": {},
     "output_type": "execute_result"
    }
   ],
   "source": [
    "mh_wf.head()"
   ]
  },
  {
   "cell_type": "code",
   "execution_count": 6,
   "metadata": {},
   "outputs": [],
   "source": [
    "newdata=mh_wf[\"#\"].str.split(\":\",expand = True)\n",
    "mh_wf[\"ratio_a\"]=newdata[0]\n",
    "mh_wf[\"ratio_b\"]=newdata[1]\n",
    "mh_wf[\"ratio_a\"]=mh_wf[\"ratio_a\"].astype(float)\n",
    "mh_wf[\"ratio_b\"]=mh_wf[\"ratio_b\"].astype(float)"
   ]
  },
  {
   "cell_type": "code",
   "execution_count": 7,
   "metadata": {},
   "outputs": [],
   "source": [
    "mh_wf[\"Work_f_ratio\"]=mh_wf[\"ratio_b\"]/(mh_wf[\"ratio_a\"]+mh_wf[\"ratio_b\"])"
   ]
  },
  {
   "cell_type": "code",
   "execution_count": 8,
   "metadata": {},
   "outputs": [
    {
     "data": {
      "text/html": [
       "<div>\n",
       "<style scoped>\n",
       "    .dataframe tbody tr th:only-of-type {\n",
       "        vertical-align: middle;\n",
       "    }\n",
       "\n",
       "    .dataframe tbody tr th {\n",
       "        vertical-align: top;\n",
       "    }\n",
       "\n",
       "    .dataframe thead th {\n",
       "        text-align: right;\n",
       "    }\n",
       "</style>\n",
       "<table border=\"1\" class=\"dataframe\">\n",
       "  <thead>\n",
       "    <tr style=\"text-align: right;\">\n",
       "      <th></th>\n",
       "      <th>Rank</th>\n",
       "      <th>State</th>\n",
       "      <th>#</th>\n",
       "      <th>ratio_a</th>\n",
       "      <th>ratio_b</th>\n",
       "      <th>Work_f_ratio</th>\n",
       "    </tr>\n",
       "  </thead>\n",
       "  <tbody>\n",
       "    <tr>\n",
       "      <th>0</th>\n",
       "      <td>1.0</td>\n",
       "      <td>Massachusetts</td>\n",
       "      <td>180:1</td>\n",
       "      <td>180.0</td>\n",
       "      <td>1.0</td>\n",
       "      <td>0.005525</td>\n",
       "    </tr>\n",
       "    <tr>\n",
       "      <th>1</th>\n",
       "      <td>2.0</td>\n",
       "      <td>Oregon</td>\n",
       "      <td>210:1</td>\n",
       "      <td>210.0</td>\n",
       "      <td>1.0</td>\n",
       "      <td>0.004739</td>\n",
       "    </tr>\n",
       "    <tr>\n",
       "      <th>2</th>\n",
       "      <td>3.0</td>\n",
       "      <td>District of Columbia</td>\n",
       "      <td>220:1</td>\n",
       "      <td>220.0</td>\n",
       "      <td>1.0</td>\n",
       "      <td>0.004525</td>\n",
       "    </tr>\n",
       "    <tr>\n",
       "      <th>3</th>\n",
       "      <td>4.0</td>\n",
       "      <td>Maine</td>\n",
       "      <td>220:1</td>\n",
       "      <td>220.0</td>\n",
       "      <td>1.0</td>\n",
       "      <td>0.004525</td>\n",
       "    </tr>\n",
       "    <tr>\n",
       "      <th>4</th>\n",
       "      <td>5.0</td>\n",
       "      <td>Vermont</td>\n",
       "      <td>230:1</td>\n",
       "      <td>230.0</td>\n",
       "      <td>1.0</td>\n",
       "      <td>0.004329</td>\n",
       "    </tr>\n",
       "  </tbody>\n",
       "</table>\n",
       "</div>"
      ],
      "text/plain": [
       "   Rank                 State      #  ratio_a  ratio_b  Work_f_ratio\n",
       "0   1.0         Massachusetts  180:1    180.0      1.0      0.005525\n",
       "1   2.0                Oregon  210:1    210.0      1.0      0.004739\n",
       "2   3.0  District of Columbia  220:1    220.0      1.0      0.004525\n",
       "3   4.0                 Maine  220:1    220.0      1.0      0.004525\n",
       "4   5.0               Vermont  230:1    230.0      1.0      0.004329"
      ]
     },
     "execution_count": 8,
     "metadata": {},
     "output_type": "execute_result"
    }
   ],
   "source": [
    "mh_wf.head()"
   ]
  },
  {
   "cell_type": "code",
   "execution_count": 9,
   "metadata": {},
   "outputs": [
    {
     "data": {
      "text/html": [
       "<div>\n",
       "<style scoped>\n",
       "    .dataframe tbody tr th:only-of-type {\n",
       "        vertical-align: middle;\n",
       "    }\n",
       "\n",
       "    .dataframe tbody tr th {\n",
       "        vertical-align: top;\n",
       "    }\n",
       "\n",
       "    .dataframe thead th {\n",
       "        text-align: right;\n",
       "    }\n",
       "</style>\n",
       "<table border=\"1\" class=\"dataframe\">\n",
       "  <thead>\n",
       "    <tr style=\"text-align: right;\">\n",
       "      <th></th>\n",
       "      <th>State</th>\n",
       "      <th>Region</th>\n",
       "      <th>Region_num</th>\n",
       "    </tr>\n",
       "  </thead>\n",
       "  <tbody>\n",
       "    <tr>\n",
       "      <th>0</th>\n",
       "      <td>Connecticut</td>\n",
       "      <td>Northeast</td>\n",
       "      <td>1</td>\n",
       "    </tr>\n",
       "    <tr>\n",
       "      <th>1</th>\n",
       "      <td>Maine</td>\n",
       "      <td>Northeast</td>\n",
       "      <td>1</td>\n",
       "    </tr>\n",
       "    <tr>\n",
       "      <th>2</th>\n",
       "      <td>Massachusetts</td>\n",
       "      <td>Northeast</td>\n",
       "      <td>1</td>\n",
       "    </tr>\n",
       "    <tr>\n",
       "      <th>3</th>\n",
       "      <td>New Hampshire</td>\n",
       "      <td>Northeast</td>\n",
       "      <td>1</td>\n",
       "    </tr>\n",
       "    <tr>\n",
       "      <th>4</th>\n",
       "      <td>Rhode Island</td>\n",
       "      <td>Northeast</td>\n",
       "      <td>1</td>\n",
       "    </tr>\n",
       "  </tbody>\n",
       "</table>\n",
       "</div>"
      ],
      "text/plain": [
       "           State     Region  Region_num\n",
       "0    Connecticut  Northeast           1\n",
       "1          Maine  Northeast           1\n",
       "2  Massachusetts  Northeast           1\n",
       "3  New Hampshire  Northeast           1\n",
       "4   Rhode Island  Northeast           1"
      ]
     },
     "execution_count": 9,
     "metadata": {},
     "output_type": "execute_result"
    }
   ],
   "source": [
    "region_state.head()"
   ]
  },
  {
   "cell_type": "code",
   "execution_count": 10,
   "metadata": {},
   "outputs": [],
   "source": [
    "region_state_df=region_state.set_index(\"State\")"
   ]
  },
  {
   "cell_type": "code",
   "execution_count": 11,
   "metadata": {},
   "outputs": [],
   "source": [
    "sta_region_dic=pd.Series(region_state.Region.values, index=region_state.State).to_dict()"
   ]
  },
  {
   "cell_type": "code",
   "execution_count": 12,
   "metadata": {},
   "outputs": [
    {
     "data": {
      "text/plain": [
       "{'Connecticut': 'Northeast',\n",
       " 'Maine': 'Northeast',\n",
       " 'Massachusetts': 'Northeast',\n",
       " 'New Hampshire': 'Northeast',\n",
       " 'Rhode Island': 'Northeast',\n",
       " 'Vermont': 'Northeast',\n",
       " 'New Jersey': 'Northeast',\n",
       " 'New York': 'Northeast',\n",
       " 'Pennsylvania': 'Northeast',\n",
       " 'Illinois': 'Midwest',\n",
       " 'Indiana': 'Midwest',\n",
       " 'Michigan': 'Midwest',\n",
       " 'Ohio': 'Midwest',\n",
       " 'Wisconsin': 'Midwest',\n",
       " 'Iowa': 'Midwest',\n",
       " 'Kansas': 'Midwest',\n",
       " 'Minnesota': 'Midwest',\n",
       " 'Missouri': 'Midwest',\n",
       " 'Nebraska': 'Midwest',\n",
       " 'North Dakota': 'Midwest',\n",
       " 'South Dakota': 'Midwest',\n",
       " 'Delaware': 'South',\n",
       " 'Florida': 'South',\n",
       " 'Georgia': 'South',\n",
       " 'Maryland': 'South',\n",
       " 'North Carolina': 'South',\n",
       " 'South Carolina': 'South',\n",
       " 'District of Columbia': 'South',\n",
       " 'Virginia': 'South',\n",
       " 'West Virginia': 'South',\n",
       " 'Alabama': 'South',\n",
       " 'Kentucky': 'South',\n",
       " 'Mississippi': 'South',\n",
       " 'Tennessee': 'South',\n",
       " 'Arkansas': 'South',\n",
       " 'Louisiana': 'South',\n",
       " 'Oklahoma': 'South',\n",
       " 'Texas': 'South',\n",
       " 'Arizona': 'West',\n",
       " 'Colorado': 'West',\n",
       " 'Nevada': 'West',\n",
       " 'New Mexico': 'West',\n",
       " 'Montana': 'West',\n",
       " 'Utah': 'West',\n",
       " 'Wyoming': 'West',\n",
       " 'Alaska': 'West',\n",
       " 'California': 'West',\n",
       " 'Hawaii': 'West',\n",
       " 'Oregon': 'West',\n",
       " 'Washington': 'West',\n",
       " 'Idaho': 'West'}"
      ]
     },
     "execution_count": 12,
     "metadata": {},
     "output_type": "execute_result"
    }
   ],
   "source": [
    "sta_region_dic"
   ]
  },
  {
   "cell_type": "code",
   "execution_count": 13,
   "metadata": {},
   "outputs": [],
   "source": [
    "mh_wf_df=mh_wf.copy()\n",
    "mh_wf_df[\"Region\"]=mh_wf_df[\"State\"]"
   ]
  },
  {
   "cell_type": "code",
   "execution_count": 14,
   "metadata": {},
   "outputs": [],
   "source": [
    "mh_wf_df=mh_wf_df.replace({\"Region\":sta_region_dic})"
   ]
  },
  {
   "cell_type": "code",
   "execution_count": 15,
   "metadata": {},
   "outputs": [],
   "source": [
    "mh_wf_df=mh_wf_df.drop(columns=\"Rank\")"
   ]
  },
  {
   "cell_type": "code",
   "execution_count": 16,
   "metadata": {},
   "outputs": [
    {
     "data": {
      "text/plain": [
       "count    51.000000\n",
       "mean      0.002508\n",
       "std       0.001078\n",
       "min       0.000908\n",
       "25%       0.001722\n",
       "50%       0.002268\n",
       "75%       0.003215\n",
       "max       0.005525\n",
       "Name: Work_f_ratio, dtype: float64"
      ]
     },
     "execution_count": 16,
     "metadata": {},
     "output_type": "execute_result"
    }
   ],
   "source": [
    "mh_wf_df[\"Work_f_ratio\"].describe()"
   ]
  },
  {
   "cell_type": "code",
   "execution_count": 17,
   "metadata": {},
   "outputs": [],
   "source": [
    "wf_by_region=mh_wf_df.groupby(\"Region\").mean(\"Work_f_ratio\")"
   ]
  },
  {
   "cell_type": "code",
   "execution_count": 18,
   "metadata": {},
   "outputs": [
    {
     "data": {
      "text/html": [
       "<div>\n",
       "<style scoped>\n",
       "    .dataframe tbody tr th:only-of-type {\n",
       "        vertical-align: middle;\n",
       "    }\n",
       "\n",
       "    .dataframe tbody tr th {\n",
       "        vertical-align: top;\n",
       "    }\n",
       "\n",
       "    .dataframe thead th {\n",
       "        text-align: right;\n",
       "    }\n",
       "</style>\n",
       "<table border=\"1\" class=\"dataframe\">\n",
       "  <thead>\n",
       "    <tr style=\"text-align: right;\">\n",
       "      <th></th>\n",
       "      <th>ratio_a</th>\n",
       "      <th>ratio_b</th>\n",
       "      <th>Work_f_ratio</th>\n",
       "    </tr>\n",
       "    <tr>\n",
       "      <th>Region</th>\n",
       "      <th></th>\n",
       "      <th></th>\n",
       "      <th></th>\n",
       "    </tr>\n",
       "  </thead>\n",
       "  <tbody>\n",
       "    <tr>\n",
       "      <th>Midwest</th>\n",
       "      <td>526.666667</td>\n",
       "      <td>1.0</td>\n",
       "      <td>0.001954</td>\n",
       "    </tr>\n",
       "    <tr>\n",
       "      <th>Northeast</th>\n",
       "      <td>323.333333</td>\n",
       "      <td>1.0</td>\n",
       "      <td>0.003480</td>\n",
       "    </tr>\n",
       "    <tr>\n",
       "      <th>South</th>\n",
       "      <td>590.588235</td>\n",
       "      <td>1.0</td>\n",
       "      <td>0.002029</td>\n",
       "    </tr>\n",
       "    <tr>\n",
       "      <th>West</th>\n",
       "      <td>376.153846</td>\n",
       "      <td>1.0</td>\n",
       "      <td>0.002974</td>\n",
       "    </tr>\n",
       "  </tbody>\n",
       "</table>\n",
       "</div>"
      ],
      "text/plain": [
       "              ratio_a  ratio_b  Work_f_ratio\n",
       "Region                                      \n",
       "Midwest    526.666667      1.0      0.001954\n",
       "Northeast  323.333333      1.0      0.003480\n",
       "South      590.588235      1.0      0.002029\n",
       "West       376.153846      1.0      0.002974"
      ]
     },
     "execution_count": 18,
     "metadata": {},
     "output_type": "execute_result"
    }
   ],
   "source": [
    "wf_by_region.head()"
   ]
  },
  {
   "cell_type": "code",
<<<<<<< HEAD
   "execution_count": 23,
=======
   "execution_count": 19,
>>>>>>> main
   "metadata": {},
   "outputs": [],
   "source": [
    "wf_by_region=wf_by_region.drop(columns=[\"ratio_a\",\"ratio_b\"])"
   ]
  },
  {
   "cell_type": "code",
<<<<<<< HEAD
   "execution_count": 24,
=======
   "execution_count": 20,
>>>>>>> main
   "metadata": {},
   "outputs": [
    {
     "data": {
      "text/html": [
       "<div>\n",
       "<style scoped>\n",
       "    .dataframe tbody tr th:only-of-type {\n",
       "        vertical-align: middle;\n",
       "    }\n",
       "\n",
       "    .dataframe tbody tr th {\n",
       "        vertical-align: top;\n",
       "    }\n",
       "\n",
       "    .dataframe thead th {\n",
       "        text-align: right;\n",
       "    }\n",
       "</style>\n",
       "<table border=\"1\" class=\"dataframe\">\n",
       "  <thead>\n",
       "    <tr style=\"text-align: right;\">\n",
       "      <th></th>\n",
       "      <th>Work_f_ratio</th>\n",
       "    </tr>\n",
       "    <tr>\n",
       "      <th>Region</th>\n",
       "      <th></th>\n",
       "    </tr>\n",
       "  </thead>\n",
       "  <tbody>\n",
       "    <tr>\n",
       "      <th>Midwest</th>\n",
       "      <td>0.001954</td>\n",
       "    </tr>\n",
       "    <tr>\n",
       "      <th>Northeast</th>\n",
       "      <td>0.003480</td>\n",
       "    </tr>\n",
       "    <tr>\n",
       "      <th>South</th>\n",
       "      <td>0.002029</td>\n",
       "    </tr>\n",
       "    <tr>\n",
       "      <th>West</th>\n",
       "      <td>0.002974</td>\n",
       "    </tr>\n",
       "  </tbody>\n",
       "</table>\n",
       "</div>"
      ],
      "text/plain": [
       "           Work_f_ratio\n",
       "Region                 \n",
       "Midwest        0.001954\n",
       "Northeast      0.003480\n",
       "South          0.002029\n",
       "West           0.002974"
      ]
     },
<<<<<<< HEAD
     "execution_count": 24,
=======
     "execution_count": 20,
>>>>>>> main
     "metadata": {},
     "output_type": "execute_result"
    }
   ],
   "source": [
    "wf_by_region"
   ]
  },
  {
   "cell_type": "code",
<<<<<<< HEAD
   "execution_count": null,
   "metadata": {},
   "outputs": [],
   "source": []
=======
   "execution_count": 38,
   "metadata": {},
   "outputs": [
    {
     "data": {
      "text/plain": [
       "Work_f_ratio    0.001954\n",
       "Name: Midwest, dtype: float64"
      ]
     },
     "execution_count": 38,
     "metadata": {},
     "output_type": "execute_result"
    }
   ],
   "source": [
    "wf_by_region.iloc[0]"
   ]
  },
  {
   "cell_type": "code",
   "execution_count": 33,
   "metadata": {},
   "outputs": [
    {
     "name": "stdout",
     "output_type": "stream",
     "text": [
      "<class 'pandas.core.frame.DataFrame'>\n",
      "RangeIndex: 31103 entries, 0 to 31102\n",
      "Data columns (total 8 columns):\n",
      " #   Column      Non-Null Count  Dtype  \n",
      "---  ------      --------------  -----  \n",
      " 0   FAMINCTC_A  31103 non-null  int64  \n",
      " 1   RACEALLP_A  31103 non-null  int64  \n",
      " 2   MAXEDUC_A   31103 non-null  float64\n",
      " 3   REGION      31103 non-null  int64  \n",
      " 4   SEX_A       31103 non-null  int64  \n",
      " 5   AGEP_A      31103 non-null  int64  \n",
      " 6   MHTHND_A    31103 non-null  int64  \n",
      " 7   Region_wf   31103 non-null  object \n",
      "dtypes: float64(1), int64(6), object(1)\n",
      "memory usage: 1.9+ MB\n"
     ]
    }
   ],
   "source": [
    "survey_df.info()"
   ]
  },
  {
   "cell_type": "code",
   "execution_count": 31,
   "metadata": {},
   "outputs": [],
   "source": [
    "survey_df[\"Region_wf\"]=\"\""
   ]
  },
  {
   "cell_type": "code",
   "execution_count": 26,
   "metadata": {},
   "outputs": [],
   "source": [
    "a=wf_by_region.loc[\"Midwest\"].values"
   ]
  },
  {
   "cell_type": "code",
   "execution_count": 75,
   "metadata": {},
   "outputs": [],
   "source": [
    "def apply_region_value(x):\n",
    "    if x==1:\n",
    "        return 0.003480\n",
    "    if x==2:\n",
    "        return 0.001954\n",
    "    if x==3:\n",
    "        return 0.002029\n",
    "    if x==4:\n",
    "        return 0.002974\n",
    "    else:\n",
    "        return \"Null\"\n",
    "\n",
    "\n"
   ]
  },
  {
   "cell_type": "code",
   "execution_count": 78,
   "metadata": {},
   "outputs": [],
   "source": [
    "survey_df[\"Region_wf\"]=survey_df[\"REGION\"].apply(lambda x: apply_region_value(x))"
   ]
  },
  {
   "cell_type": "code",
   "execution_count": 81,
   "metadata": {},
   "outputs": [
    {
     "data": {
      "text/html": [
       "<div>\n",
       "<style scoped>\n",
       "    .dataframe tbody tr th:only-of-type {\n",
       "        vertical-align: middle;\n",
       "    }\n",
       "\n",
       "    .dataframe tbody tr th {\n",
       "        vertical-align: top;\n",
       "    }\n",
       "\n",
       "    .dataframe thead th {\n",
       "        text-align: right;\n",
       "    }\n",
       "</style>\n",
       "<table border=\"1\" class=\"dataframe\">\n",
       "  <thead>\n",
       "    <tr style=\"text-align: right;\">\n",
       "      <th></th>\n",
       "      <th>FAMINCTC_A</th>\n",
       "      <th>RACEALLP_A</th>\n",
       "      <th>MAXEDUC_A</th>\n",
       "      <th>REGION</th>\n",
       "      <th>SEX_A</th>\n",
       "      <th>AGEP_A</th>\n",
       "      <th>MHTHND_A</th>\n",
       "      <th>Region_wf</th>\n",
       "    </tr>\n",
       "  </thead>\n",
       "  <tbody>\n",
       "    <tr>\n",
       "      <th>10052</th>\n",
       "      <td>250000</td>\n",
       "      <td>3</td>\n",
       "      <td>8.0</td>\n",
       "      <td>2</td>\n",
       "      <td>1</td>\n",
       "      <td>36</td>\n",
       "      <td>2</td>\n",
       "      <td>0.001954</td>\n",
       "    </tr>\n",
       "    <tr>\n",
       "      <th>4349</th>\n",
       "      <td>250000</td>\n",
       "      <td>3</td>\n",
       "      <td>11.0</td>\n",
       "      <td>4</td>\n",
       "      <td>1</td>\n",
       "      <td>36</td>\n",
       "      <td>2</td>\n",
       "      <td>0.002974</td>\n",
       "    </tr>\n",
       "    <tr>\n",
       "      <th>8128</th>\n",
       "      <td>60000</td>\n",
       "      <td>1</td>\n",
       "      <td>11.0</td>\n",
       "      <td>3</td>\n",
       "      <td>2</td>\n",
       "      <td>70</td>\n",
       "      <td>2</td>\n",
       "      <td>0.002029</td>\n",
       "    </tr>\n",
       "    <tr>\n",
       "      <th>7366</th>\n",
       "      <td>48000</td>\n",
       "      <td>1</td>\n",
       "      <td>7.0</td>\n",
       "      <td>3</td>\n",
       "      <td>2</td>\n",
       "      <td>69</td>\n",
       "      <td>2</td>\n",
       "      <td>0.002029</td>\n",
       "    </tr>\n",
       "    <tr>\n",
       "      <th>7714</th>\n",
       "      <td>115000</td>\n",
       "      <td>1</td>\n",
       "      <td>9.0</td>\n",
       "      <td>3</td>\n",
       "      <td>1</td>\n",
       "      <td>74</td>\n",
       "      <td>2</td>\n",
       "      <td>0.002029</td>\n",
       "    </tr>\n",
       "    <tr>\n",
       "      <th>24912</th>\n",
       "      <td>25000</td>\n",
       "      <td>1</td>\n",
       "      <td>6.0</td>\n",
       "      <td>2</td>\n",
       "      <td>1</td>\n",
       "      <td>74</td>\n",
       "      <td>2</td>\n",
       "      <td>0.001954</td>\n",
       "    </tr>\n",
       "    <tr>\n",
       "      <th>27424</th>\n",
       "      <td>53244</td>\n",
       "      <td>1</td>\n",
       "      <td>4.0</td>\n",
       "      <td>3</td>\n",
       "      <td>2</td>\n",
       "      <td>78</td>\n",
       "      <td>2</td>\n",
       "      <td>0.002029</td>\n",
       "    </tr>\n",
       "    <tr>\n",
       "      <th>27220</th>\n",
       "      <td>0</td>\n",
       "      <td>1</td>\n",
       "      <td>5.0</td>\n",
       "      <td>3</td>\n",
       "      <td>2</td>\n",
       "      <td>60</td>\n",
       "      <td>2</td>\n",
       "      <td>0.002029</td>\n",
       "    </tr>\n",
       "    <tr>\n",
       "      <th>1716</th>\n",
       "      <td>85000</td>\n",
       "      <td>1</td>\n",
       "      <td>4.0</td>\n",
       "      <td>4</td>\n",
       "      <td>1</td>\n",
       "      <td>67</td>\n",
       "      <td>2</td>\n",
       "      <td>0.002974</td>\n",
       "    </tr>\n",
       "    <tr>\n",
       "      <th>23407</th>\n",
       "      <td>75000</td>\n",
       "      <td>1</td>\n",
       "      <td>8.0</td>\n",
       "      <td>1</td>\n",
       "      <td>1</td>\n",
       "      <td>58</td>\n",
       "      <td>2</td>\n",
       "      <td>0.003480</td>\n",
       "    </tr>\n",
       "    <tr>\n",
       "      <th>7252</th>\n",
       "      <td>150000</td>\n",
       "      <td>1</td>\n",
       "      <td>8.0</td>\n",
       "      <td>3</td>\n",
       "      <td>2</td>\n",
       "      <td>27</td>\n",
       "      <td>1</td>\n",
       "      <td>0.002029</td>\n",
       "    </tr>\n",
       "    <tr>\n",
       "      <th>9301</th>\n",
       "      <td>90000</td>\n",
       "      <td>1</td>\n",
       "      <td>6.0</td>\n",
       "      <td>4</td>\n",
       "      <td>2</td>\n",
       "      <td>70</td>\n",
       "      <td>2</td>\n",
       "      <td>0.002974</td>\n",
       "    </tr>\n",
       "    <tr>\n",
       "      <th>29465</th>\n",
       "      <td>83000</td>\n",
       "      <td>8</td>\n",
       "      <td>4.0</td>\n",
       "      <td>4</td>\n",
       "      <td>1</td>\n",
       "      <td>64</td>\n",
       "      <td>2</td>\n",
       "      <td>0.002974</td>\n",
       "    </tr>\n",
       "    <tr>\n",
       "      <th>9664</th>\n",
       "      <td>250000</td>\n",
       "      <td>1</td>\n",
       "      <td>9.0</td>\n",
       "      <td>2</td>\n",
       "      <td>2</td>\n",
       "      <td>43</td>\n",
       "      <td>2</td>\n",
       "      <td>0.001954</td>\n",
       "    </tr>\n",
       "    <tr>\n",
       "      <th>4385</th>\n",
       "      <td>250000</td>\n",
       "      <td>1</td>\n",
       "      <td>9.0</td>\n",
       "      <td>4</td>\n",
       "      <td>1</td>\n",
       "      <td>71</td>\n",
       "      <td>2</td>\n",
       "      <td>0.002974</td>\n",
       "    </tr>\n",
       "  </tbody>\n",
       "</table>\n",
       "</div>"
      ],
      "text/plain": [
       "       FAMINCTC_A  RACEALLP_A  MAXEDUC_A  REGION  SEX_A  AGEP_A  MHTHND_A  \\\n",
       "10052      250000           3        8.0       2      1      36         2   \n",
       "4349       250000           3       11.0       4      1      36         2   \n",
       "8128        60000           1       11.0       3      2      70         2   \n",
       "7366        48000           1        7.0       3      2      69         2   \n",
       "7714       115000           1        9.0       3      1      74         2   \n",
       "24912       25000           1        6.0       2      1      74         2   \n",
       "27424       53244           1        4.0       3      2      78         2   \n",
       "27220           0           1        5.0       3      2      60         2   \n",
       "1716        85000           1        4.0       4      1      67         2   \n",
       "23407       75000           1        8.0       1      1      58         2   \n",
       "7252       150000           1        8.0       3      2      27         1   \n",
       "9301        90000           1        6.0       4      2      70         2   \n",
       "29465       83000           8        4.0       4      1      64         2   \n",
       "9664       250000           1        9.0       2      2      43         2   \n",
       "4385       250000           1        9.0       4      1      71         2   \n",
       "\n",
       "       Region_wf  \n",
       "10052   0.001954  \n",
       "4349    0.002974  \n",
       "8128    0.002029  \n",
       "7366    0.002029  \n",
       "7714    0.002029  \n",
       "24912   0.001954  \n",
       "27424   0.002029  \n",
       "27220   0.002029  \n",
       "1716    0.002974  \n",
       "23407   0.003480  \n",
       "7252    0.002029  \n",
       "9301    0.002974  \n",
       "29465   0.002974  \n",
       "9664    0.001954  \n",
       "4385    0.002974  "
      ]
     },
     "execution_count": 81,
     "metadata": {},
     "output_type": "execute_result"
    }
   ],
   "source": [
    "survey_df.sample(15)"
   ]
  },
  {
   "cell_type": "code",
   "execution_count": 82,
   "metadata": {},
   "outputs": [],
   "source": [
    "ml_clean_df=survey_df"
   ]
  },
  {
   "cell_type": "code",
   "execution_count": 87,
   "metadata": {},
   "outputs": [],
   "source": [
    "ml_clean_df.to_csv(r'/Users/pazilatn/Desktop/github/project-vu/resources/ml_clean_df.csv', sep=',', index=False)"
   ]
>>>>>>> main
  }
 ],
 "metadata": {
  "interpreter": {
   "hash": "08c93c157fc5d18ac848c6251606ee69859dae94ec2612adddf5de6330b817e9"
  },
  "kernelspec": {
   "display_name": "Python 3.7.10 64-bit ('mlenv': conda)",
   "name": "python3"
  },
  "language_info": {
   "codemirror_mode": {
    "name": "ipython",
    "version": 3
   },
   "file_extension": ".py",
   "mimetype": "text/x-python",
   "name": "python",
   "nbconvert_exporter": "python",
   "pygments_lexer": "ipython3",
   "version": "3.7.10"
  },
  "orig_nbformat": 4
 },
 "nbformat": 4,
 "nbformat_minor": 2
}
