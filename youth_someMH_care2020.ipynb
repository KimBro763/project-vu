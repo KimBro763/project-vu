{
 "cells": [
  {
   "cell_type": "code",
   "execution_count": 12,
   "metadata": {},
   "outputs": [],
   "source": [
    "import pandas as pd\n",
    "# To install, pip install tabula-py in your env\n",
    "import tabula"
   ]
  },
  {
   "cell_type": "code",
   "execution_count": 13,
   "metadata": {},
   "outputs": [],
   "source": [
    "tabula.convert_into(r\"resources\\2020_data.pdf\", \"uncleaned_csv\\uncleaned_csv\\youth_some_mh_unclean2020.csv\", output_format=\"csv\", pages='39', stream = True)"
   ]
  },
  {
   "cell_type": "code",
   "execution_count": 14,
   "metadata": {},
   "outputs": [],
   "source": [
    "youth_someMH_df = pd.read_csv(\"uncleaned_csv\\youth_some_mh.csv\")\n",
    "youth_someMH_df = youth_someMH_df.dropna(how='all')"
   ]
  },
  {
   "cell_type": "code",
   "execution_count": 15,
   "metadata": {},
   "outputs": [],
   "source": [
    "# Extract second half of ami_df to make second df to be joined back in\n",
    "youth_someMH_df_2 = youth_someMH_df[[\"Rank.1\", \"State.1\", \"%.1\", \"#.1\"]]\n",
    "youth_someMH_df_2 = youth_someMH_df_2.rename(columns={'Rank.1' : \"Rank\", \"State.1\" : \"State\", \"%.1\" : \"%\", \"#.1\": \"#\"})\n"
   ]
  },
  {
   "cell_type": "code",
   "execution_count": 16,
   "metadata": {},
   "outputs": [],
   "source": [
    "youth_someMH_df = youth_someMH_df.drop(columns={\"Rank.1\", \"State.1\", \"%.1\", \"#.1\"})"
   ]
  },
  {
   "cell_type": "code",
   "execution_count": 17,
   "metadata": {},
   "outputs": [],
   "source": [
    "# Merge both dfs together, making final df\n",
    "youth_someMH_df = youth_someMH_df.append(youth_someMH_df_2)"
   ]
  },
  {
   "cell_type": "code",
   "execution_count": 18,
   "metadata": {},
   "outputs": [],
   "source": [
    "youth_someMH_df.to_csv(r'resources\\youth_some_mh_service_clean2020.csv', sep=',', index=False)"
   ]
  }
 ],
 "metadata": {
  "interpreter": {
   "hash": "7829a8a9740bf35ce0d99eaef6f9b78ba8db1856c4a7cf99972e3bb293bfaf99"
  },
  "kernelspec": {
   "display_name": "Python 3.9.5 64-bit ('PyData': conda)",
   "name": "python3"
  },
  "language_info": {
   "codemirror_mode": {
    "name": "ipython",
    "version": 3
   },
   "file_extension": ".py",
   "mimetype": "text/x-python",
   "name": "python",
   "nbconvert_exporter": "python",
   "pygments_lexer": "ipython3",
   "version": "3.9.5"
  },
  "orig_nbformat": 4
 },
 "nbformat": 4,
 "nbformat_minor": 2
}
