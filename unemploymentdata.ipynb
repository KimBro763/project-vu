{
 "cells": [
  {
   "cell_type": "code",
   "execution_count": 55,
   "source": [
    "import pandas as pd\n"
   ],
   "outputs": [],
   "metadata": {}
  },
  {
   "cell_type": "code",
   "execution_count": 56,
   "source": [
    "file_unemploy=\"/Users/pazilatn/Desktop/github/project-vu/resources/unemployment19_20.csv\"\n",
    "file_state=\"/Users/pazilatn/Desktop/github/project-vu/resources/statedict.csv\"\n",
    "\n",
    "df=pd.read_csv(file_unemploy,header=0)\n",
    "state=pd.read_csv(file_state, )"
   ],
   "outputs": [],
   "metadata": {}
  },
  {
   "cell_type": "code",
   "execution_count": 57,
   "source": [
    "state.columns=[\"Series_ID\",\"state\"]"
   ],
   "outputs": [],
   "metadata": {}
  },
  {
   "cell_type": "code",
   "execution_count": 58,
   "source": [
    "state.loc[state[\"Series_ID\"].isnull()]"
   ],
   "outputs": [
    {
     "output_type": "execute_result",
     "data": {
      "text/html": [
       "<div>\n",
       "<style scoped>\n",
       "    .dataframe tbody tr th:only-of-type {\n",
       "        vertical-align: middle;\n",
       "    }\n",
       "\n",
       "    .dataframe tbody tr th {\n",
       "        vertical-align: top;\n",
       "    }\n",
       "\n",
       "    .dataframe thead th {\n",
       "        text-align: right;\n",
       "    }\n",
       "</style>\n",
       "<table border=\"1\" class=\"dataframe\">\n",
       "  <thead>\n",
       "    <tr style=\"text-align: right;\">\n",
       "      <th></th>\n",
       "      <th>Series_ID</th>\n",
       "      <th>state</th>\n",
       "    </tr>\n",
       "  </thead>\n",
       "  <tbody>\n",
       "    <tr>\n",
       "      <th>51</th>\n",
       "      <td>NaN</td>\n",
       "      <td>0</td>\n",
       "    </tr>\n",
       "  </tbody>\n",
       "</table>\n",
       "</div>"
      ],
      "text/plain": [
       "   Series_ID state\n",
       "51       NaN     0"
      ]
     },
     "metadata": {},
     "execution_count": 58
    }
   ],
   "metadata": {}
  },
  {
   "cell_type": "code",
   "execution_count": 59,
   "source": [
    "state=state.dropna()\n",
    "state.head()"
   ],
   "outputs": [
    {
     "output_type": "execute_result",
     "data": {
      "text/html": [
       "<div>\n",
       "<style scoped>\n",
       "    .dataframe tbody tr th:only-of-type {\n",
       "        vertical-align: middle;\n",
       "    }\n",
       "\n",
       "    .dataframe tbody tr th {\n",
       "        vertical-align: top;\n",
       "    }\n",
       "\n",
       "    .dataframe thead th {\n",
       "        text-align: right;\n",
       "    }\n",
       "</style>\n",
       "<table border=\"1\" class=\"dataframe\">\n",
       "  <thead>\n",
       "    <tr style=\"text-align: right;\">\n",
       "      <th></th>\n",
       "      <th>Series_ID</th>\n",
       "      <th>state</th>\n",
       "    </tr>\n",
       "  </thead>\n",
       "  <tbody>\n",
       "    <tr>\n",
       "      <th>0</th>\n",
       "      <td>LASST020000000000003</td>\n",
       "      <td>Alaska</td>\n",
       "    </tr>\n",
       "    <tr>\n",
       "      <th>1</th>\n",
       "      <td>LASST040000000000003</td>\n",
       "      <td>Arizona</td>\n",
       "    </tr>\n",
       "    <tr>\n",
       "      <th>2</th>\n",
       "      <td>LASST050000000000003</td>\n",
       "      <td>Arkansas</td>\n",
       "    </tr>\n",
       "    <tr>\n",
       "      <th>3</th>\n",
       "      <td>LASST060000000000003</td>\n",
       "      <td>California</td>\n",
       "    </tr>\n",
       "    <tr>\n",
       "      <th>4</th>\n",
       "      <td>LASST080000000000003</td>\n",
       "      <td>Colorado</td>\n",
       "    </tr>\n",
       "  </tbody>\n",
       "</table>\n",
       "</div>"
      ],
      "text/plain": [
       "              Series_ID       state\n",
       "0  LASST020000000000003      Alaska\n",
       "1  LASST040000000000003     Arizona\n",
       "2  LASST050000000000003    Arkansas\n",
       "3  LASST060000000000003  California\n",
       "4  LASST080000000000003    Colorado"
      ]
     },
     "metadata": {},
     "execution_count": 59
    }
   ],
   "metadata": {}
  },
  {
   "cell_type": "code",
   "execution_count": 60,
   "source": [
    "state_dict=pd.Series(state.state.values,index=state.Series_ID).to_dict()"
   ],
   "outputs": [],
   "metadata": {}
  },
  {
   "cell_type": "code",
   "execution_count": 61,
   "source": [
    "state_dict[\"LASST010000000000003\"]=\"Alabama\"\n",
    "state_dict"
   ],
   "outputs": [
    {
     "output_type": "execute_result",
     "data": {
      "text/plain": [
       "{'LASST020000000000003': 'Alaska',\n",
       " 'LASST040000000000003': 'Arizona',\n",
       " 'LASST050000000000003': 'Arkansas',\n",
       " 'LASST060000000000003': 'California',\n",
       " 'LASST080000000000003': 'Colorado',\n",
       " 'LASST090000000000003': 'Connecticut',\n",
       " 'LASST100000000000003': 'Delaware',\n",
       " 'LASST110000000000003': 'District of Columbia',\n",
       " 'LASST120000000000003': 'Florida',\n",
       " 'LASST130000000000003': 'Georgia',\n",
       " 'LASST150000000000003': 'Hawaii',\n",
       " 'LASST160000000000003': 'Idaho',\n",
       " 'LASST170000000000003': 'Illinois',\n",
       " 'LASST180000000000003': 'Indiana',\n",
       " 'LASST190000000000003': 'Iowa',\n",
       " 'LASST200000000000003': 'Kansas',\n",
       " 'LASST210000000000003': 'Kentucky',\n",
       " 'LASST220000000000003': 'Louisiana',\n",
       " 'LASST230000000000003': 'Maine',\n",
       " 'LASST240000000000003': 'Maryland',\n",
       " 'LASST250000000000003': 'Massachusetts',\n",
       " 'LASST260000000000003': 'Michigan',\n",
       " 'LASST270000000000003': 'Minnesota',\n",
       " 'LASST280000000000003': 'Mississippi',\n",
       " 'LASST290000000000003': 'Missouri',\n",
       " 'LASST300000000000003': 'Montana',\n",
       " 'LASST310000000000003': 'Nebraska',\n",
       " 'LASST320000000000003': 'Nevada',\n",
       " 'LASST330000000000003': 'New Hampshire',\n",
       " 'LASST340000000000003': 'New Jersey',\n",
       " 'LASST350000000000003': 'New Mexico',\n",
       " 'LASST360000000000003': 'New York',\n",
       " 'LASST370000000000003': 'North Carolina',\n",
       " 'LASST380000000000003': 'North Dakota',\n",
       " 'LASST390000000000003': 'Ohio',\n",
       " 'LASST400000000000003': 'Oklahoma',\n",
       " 'LASST410000000000003': 'Oregon',\n",
       " 'LASST420000000000003': 'Pennsylvania',\n",
       " 'LASST440000000000003': 'Rhode Island',\n",
       " 'LASST450000000000003': 'South Carolina',\n",
       " 'LASST460000000000003': 'South Dakota',\n",
       " 'LASST470000000000003': 'Tennessee',\n",
       " 'LASST480000000000003': 'Texas',\n",
       " 'LASST490000000000003': 'Utah',\n",
       " 'LASST500000000000003': 'Vermont',\n",
       " 'LASST510000000000003': 'Virginia',\n",
       " 'LASST530000000000003': 'Washington',\n",
       " 'LASST540000000000003': 'West Virginia',\n",
       " 'LASST550000000000003': 'Wisconsin',\n",
       " 'LASST560000000000003': 'Wyoming',\n",
       " 'LASST720000000000003': 'Puerto Rico',\n",
       " 'LASST010000000000003': 'Alabama'}"
      ]
     },
     "metadata": {},
     "execution_count": 61
    }
   ],
   "metadata": {}
  },
  {
   "cell_type": "code",
   "execution_count": 62,
   "source": [
    "state_unemploy_df=df.replace({\"Series ID\": state_dict})\n",
    "state_unemploy_df[\"Series ID\"].unique()"
   ],
   "outputs": [
    {
     "output_type": "execute_result",
     "data": {
      "text/plain": [
       "array(['Alabama', 'Alaska', 'Arizona', 'Arkansas', 'California',\n",
       "       'Colorado', 'Connecticut', 'Delaware', 'District of Columbia',\n",
       "       'Florida', 'Georgia', 'Hawaii', 'Idaho', 'Illinois', 'Indiana',\n",
       "       'Iowa', 'Kansas', 'Kentucky', 'Louisiana', 'Maine', 'Maryland',\n",
       "       'Massachusetts', 'Michigan', 'Minnesota', 'Mississippi',\n",
       "       'Missouri', 'Montana', 'Nebraska', 'Nevada', 'New Hampshire',\n",
       "       'New Jersey', 'New Mexico', 'New York', 'North Carolina',\n",
       "       'North Dakota', 'Ohio', 'Oklahoma', 'Oregon', 'Pennsylvania',\n",
       "       'Rhode Island', 'South Carolina', 'South Dakota', 'Tennessee',\n",
       "       'Texas', 'Utah', 'Vermont', 'Virginia', 'Washington',\n",
       "       'West Virginia', 'Wisconsin', 'Wyoming', 'Puerto Rico'],\n",
       "      dtype=object)"
      ]
     },
     "metadata": {},
     "execution_count": 62
    }
   ],
   "metadata": {}
  },
  {
   "cell_type": "code",
   "execution_count": 63,
   "source": [
    "state_unemploy_df.head()"
   ],
   "outputs": [
    {
     "output_type": "execute_result",
     "data": {
      "text/html": [
       "<div>\n",
       "<style scoped>\n",
       "    .dataframe tbody tr th:only-of-type {\n",
       "        vertical-align: middle;\n",
       "    }\n",
       "\n",
       "    .dataframe tbody tr th {\n",
       "        vertical-align: top;\n",
       "    }\n",
       "\n",
       "    .dataframe thead th {\n",
       "        text-align: right;\n",
       "    }\n",
       "</style>\n",
       "<table border=\"1\" class=\"dataframe\">\n",
       "  <thead>\n",
       "    <tr style=\"text-align: right;\">\n",
       "      <th></th>\n",
       "      <th>Series ID</th>\n",
       "      <th>Year</th>\n",
       "      <th>Period</th>\n",
       "      <th>Label</th>\n",
       "      <th>Value</th>\n",
       "    </tr>\n",
       "  </thead>\n",
       "  <tbody>\n",
       "    <tr>\n",
       "      <th>0</th>\n",
       "      <td>Alabama</td>\n",
       "      <td>2019</td>\n",
       "      <td>M01</td>\n",
       "      <td>2019 Jan</td>\n",
       "      <td>3.6</td>\n",
       "    </tr>\n",
       "    <tr>\n",
       "      <th>1</th>\n",
       "      <td>Alabama</td>\n",
       "      <td>2019</td>\n",
       "      <td>M02</td>\n",
       "      <td>2019 Feb</td>\n",
       "      <td>3.5</td>\n",
       "    </tr>\n",
       "    <tr>\n",
       "      <th>2</th>\n",
       "      <td>Alabama</td>\n",
       "      <td>2019</td>\n",
       "      <td>M03</td>\n",
       "      <td>2019 Mar</td>\n",
       "      <td>3.3</td>\n",
       "    </tr>\n",
       "    <tr>\n",
       "      <th>3</th>\n",
       "      <td>Alabama</td>\n",
       "      <td>2019</td>\n",
       "      <td>M04</td>\n",
       "      <td>2019 Apr</td>\n",
       "      <td>3.2</td>\n",
       "    </tr>\n",
       "    <tr>\n",
       "      <th>4</th>\n",
       "      <td>Alabama</td>\n",
       "      <td>2019</td>\n",
       "      <td>M05</td>\n",
       "      <td>2019 May</td>\n",
       "      <td>3.1</td>\n",
       "    </tr>\n",
       "  </tbody>\n",
       "</table>\n",
       "</div>"
      ],
      "text/plain": [
       "  Series ID  Year Period     Label Value\n",
       "0   Alabama  2019    M01  2019 Jan   3.6\n",
       "1   Alabama  2019    M02  2019 Feb   3.5\n",
       "2   Alabama  2019    M03  2019 Mar   3.3\n",
       "3   Alabama  2019    M04  2019 Apr   3.2\n",
       "4   Alabama  2019    M05  2019 May   3.1"
      ]
     },
     "metadata": {},
     "execution_count": 63
    }
   ],
   "metadata": {}
  },
  {
   "cell_type": "code",
   "execution_count": 73,
   "source": [
    "state_unemploy_df[\"Month\"]=state_unemploy_df[\"Period\"].str.strip(\"M\")\n",
    "state_unemploy_df[\"Year\"]=state_unemploy_df[\"Year\"].astype(str)\n",
    "state_unemploy_df[\"Date\"]=state_unemploy_df[\"Year\"]+\"-\"+state_unemploy_df[\"Month\"]"
   ],
   "outputs": [],
   "metadata": {}
  },
  {
   "cell_type": "code",
   "execution_count": 74,
   "source": [
    "state_unemploy_df.head()"
   ],
   "outputs": [
    {
     "output_type": "execute_result",
     "data": {
      "text/html": [
       "<div>\n",
       "<style scoped>\n",
       "    .dataframe tbody tr th:only-of-type {\n",
       "        vertical-align: middle;\n",
       "    }\n",
       "\n",
       "    .dataframe tbody tr th {\n",
       "        vertical-align: top;\n",
       "    }\n",
       "\n",
       "    .dataframe thead th {\n",
       "        text-align: right;\n",
       "    }\n",
       "</style>\n",
       "<table border=\"1\" class=\"dataframe\">\n",
       "  <thead>\n",
       "    <tr style=\"text-align: right;\">\n",
       "      <th></th>\n",
       "      <th>Series ID</th>\n",
       "      <th>Year</th>\n",
       "      <th>Period</th>\n",
       "      <th>Label</th>\n",
       "      <th>Value</th>\n",
       "      <th>Month</th>\n",
       "      <th>Date</th>\n",
       "    </tr>\n",
       "  </thead>\n",
       "  <tbody>\n",
       "    <tr>\n",
       "      <th>0</th>\n",
       "      <td>Alabama</td>\n",
       "      <td>2019</td>\n",
       "      <td>M01</td>\n",
       "      <td>2019 Jan</td>\n",
       "      <td>3.6</td>\n",
       "      <td>01</td>\n",
       "      <td>2019-01</td>\n",
       "    </tr>\n",
       "    <tr>\n",
       "      <th>1</th>\n",
       "      <td>Alabama</td>\n",
       "      <td>2019</td>\n",
       "      <td>M02</td>\n",
       "      <td>2019 Feb</td>\n",
       "      <td>3.5</td>\n",
       "      <td>02</td>\n",
       "      <td>2019-02</td>\n",
       "    </tr>\n",
       "    <tr>\n",
       "      <th>2</th>\n",
       "      <td>Alabama</td>\n",
       "      <td>2019</td>\n",
       "      <td>M03</td>\n",
       "      <td>2019 Mar</td>\n",
       "      <td>3.3</td>\n",
       "      <td>03</td>\n",
       "      <td>2019-03</td>\n",
       "    </tr>\n",
       "    <tr>\n",
       "      <th>3</th>\n",
       "      <td>Alabama</td>\n",
       "      <td>2019</td>\n",
       "      <td>M04</td>\n",
       "      <td>2019 Apr</td>\n",
       "      <td>3.2</td>\n",
       "      <td>04</td>\n",
       "      <td>2019-04</td>\n",
       "    </tr>\n",
       "    <tr>\n",
       "      <th>4</th>\n",
       "      <td>Alabama</td>\n",
       "      <td>2019</td>\n",
       "      <td>M05</td>\n",
       "      <td>2019 May</td>\n",
       "      <td>3.1</td>\n",
       "      <td>05</td>\n",
       "      <td>2019-05</td>\n",
       "    </tr>\n",
       "  </tbody>\n",
       "</table>\n",
       "</div>"
      ],
      "text/plain": [
       "  Series ID  Year Period     Label Value Month     Date\n",
       "0   Alabama  2019    M01  2019 Jan   3.6    01  2019-01\n",
       "1   Alabama  2019    M02  2019 Feb   3.5    02  2019-02\n",
       "2   Alabama  2019    M03  2019 Mar   3.3    03  2019-03\n",
       "3   Alabama  2019    M04  2019 Apr   3.2    04  2019-04\n",
       "4   Alabama  2019    M05  2019 May   3.1    05  2019-05"
      ]
     },
     "metadata": {},
     "execution_count": 74
    }
   ],
   "metadata": {}
  },
  {
   "cell_type": "code",
   "execution_count": 76,
   "source": [
    "state_unemploy_df[\"Date\"]=pd.to_datetime(state_unemploy_df[\"Date\"])"
   ],
   "outputs": [],
   "metadata": {}
  },
  {
   "cell_type": "code",
   "execution_count": 78,
   "source": [
    "state_unemploy_df.info()"
   ],
   "outputs": [
    {
     "output_type": "stream",
     "name": "stdout",
     "text": [
      "<class 'pandas.core.frame.DataFrame'>\n",
      "RangeIndex: 1716 entries, 0 to 1715\n",
      "Data columns (total 7 columns):\n",
      " #   Column     Non-Null Count  Dtype         \n",
      "---  ------     --------------  -----         \n",
      " 0   Series ID  1716 non-null   object        \n",
      " 1   Year       1716 non-null   object        \n",
      " 2   Period     1716 non-null   object        \n",
      " 3   Label      1716 non-null   object        \n",
      " 4   Value      1716 non-null   object        \n",
      " 5   Month      1716 non-null   object        \n",
      " 6   Date       1716 non-null   datetime64[ns]\n",
      "dtypes: datetime64[ns](1), object(6)\n",
      "memory usage: 94.0+ KB\n"
     ]
    }
   ],
   "metadata": {}
  },
  {
   "cell_type": "code",
   "execution_count": null,
   "source": [],
   "outputs": [],
   "metadata": {}
  }
 ],
 "metadata": {
  "orig_nbformat": 4,
  "language_info": {
   "name": "python",
   "version": "3.8.10",
   "mimetype": "text/x-python",
   "codemirror_mode": {
    "name": "ipython",
    "version": 3
   },
   "pygments_lexer": "ipython3",
   "nbconvert_exporter": "python",
   "file_extension": ".py"
  },
  "kernelspec": {
   "name": "python3",
   "display_name": "Python 3.8.10 64-bit ('PyData': conda)"
  },
  "interpreter": {
   "hash": "882318a4dbb40408043b638165436726a199d58d7292987e09db31ac7eb8373e"
  }
 },
 "nbformat": 4,
 "nbformat_minor": 2
}